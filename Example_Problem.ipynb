{
 "cells": [
  {
   "cell_type": "code",
   "execution_count": 4,
   "metadata": {},
   "outputs": [],
   "source": [
    "import numpy as np\n",
    "import matplotlib.pyplot as plt\n",
    "%matplotlib inline"
   ]
  },
  {
   "cell_type": "markdown",
   "metadata": {},
   "source": [
    "# Example problem\n",
    "\n",
    "There are $i=1,...,n$ regions. Together the regions have $L$ agents: in each one, there are $L_i$ agents, and $\\sum L_i=1$."
   ]
  },
  {
   "cell_type": "markdown",
   "metadata": {},
   "source": [
    "Each region produces a good and buys goods from all other regions. The local production technology is linear in labor.\n",
    "\n",
    "$$\n",
    "y_i = A_i l_i\n",
    "$$"
   ]
  },
  {
   "cell_type": "markdown",
   "metadata": {},
   "source": [
    "In equilibrium, we need $l_i = L_i$. Workers are paid a wage $w_i$ (which we also need to solve for)."
   ]
  },
  {
   "cell_type": "markdown",
   "metadata": {},
   "source": [
    "This gives us our basic system. First, there is a labor market clearing condition, which postulates that the income earned in $i$ must be equal to the total money every region pays for $i$'s good:\n",
    "\n",
    "$$\n",
    "w_iL_i = \\sum_j \\pi_{ji} w_j L_j\n",
    "$$"
   ]
  },
  {
   "cell_type": "markdown",
   "metadata": {},
   "source": [
    "Second, there is a spatial equilibrium condition, which states that workers are indifferent across regions:\n",
    "$$\n",
    "L_i = \\frac{\n",
    "exp \\Big(\\frac{w_i}{ (\\sum_k (\\frac{w_k}{A_k})^{1-\\sigma})^{\\frac{1}{1-\\sigma}}  }  \\Big)^\\eta\n",
    "}{\n",
    "\\sum_j exp \\Big(\\frac{w_j}{ (\\sum_k (\\frac{w_k}{A_k})^{1-\\sigma})^{\\frac{1}{1-\\sigma}}  }  \\Big)^\\eta\n",
    "}\n",
    "$$"
   ]
  },
  {
   "cell_type": "markdown",
   "metadata": {},
   "source": [
    "## Solving for wages"
   ]
  },
  {
   "cell_type": "code",
   "execution_count": 6,
   "metadata": {},
   "outputs": [
    {
     "data": {
      "text/plain": [
       "0.9999999999999998"
      ]
     },
     "execution_count": 6,
     "metadata": {},
     "output_type": "execute_result"
    }
   ],
   "source": [
    "def normalize(Lf):\n",
    "    Lf /= np.sum(Lf, axis=0)\n",
    "    return Lf\n",
    "\n",
    "def difference(v1, v2):\n",
    "        return sum((v1-v2)**2)\n",
    "\n",
    "a = np.random.randn(10)\n",
    "sum(normalize(a))"
   ]
  },
  {
   "cell_type": "markdown",
   "metadata": {},
   "source": [
    "The `Tracer` class will be useful for tracking values"
   ]
  },
  {
   "cell_type": "code",
   "execution_count": 166,
   "metadata": {},
   "outputs": [],
   "source": [
    "class Tracer:\n",
    "    def __init__(self, print_every=0):\n",
    "        self.history = []\n",
    "        self.last = None\n",
    "        self.print_every = print_every\n",
    "        self.iterations = 0\n",
    "        \n",
    "    @property\n",
    "    def length(self):\n",
    "        return len(self.history)\n",
    "    \n",
    "    def log(self, value):\n",
    "        self.iterations += 1\n",
    "        self.last = value\n",
    "        self.history.append(value)\n",
    "        if self.print_every > 0 and self.iterations % self.print_every == 0:\n",
    "            print('Iteration #{}:'.format(self.iterations), value)\n",
    "    \n",
    "    def plot(self, **named_args):\n",
    "        a = np.squeeze(np.vstack(self.history))\n",
    "        print(a.shape)\n",
    "        \n",
    "        if len(a.shape) == 1:\n",
    "            plt.plot(a)\n",
    "        else:\n",
    "#             plt.figure(figsize=(12,2))\n",
    "            plt.imshow(a.T)"
   ]
  },
  {
   "cell_type": "markdown",
   "metadata": {},
   "source": [
    "The pseudo code works like this\n",
    "\n",
    "1. guess the distribution of people $L_i$\n",
    "\n",
    "2. Inner loop:\n",
    "    - use  $$ w_i = 1/L_i  \\sum_j \\pi_{ji} w_j L_j $$ to guess a wage $w_j$ and entry $\\pi_{ji}$\n",
    "    - this gives us $w_i$ as the new guess of the wage.\n",
    "    - BE careful to enforce **(constraint 1)** at each iteration!!\n",
    "\n",
    "3. using the parameters $A_i$ and the new, improved wages, calculate an improved distribution $L_i$. \n",
    "\n",
    "4. Run steps 2-3 until $L_i$ converges (ie, plugging $L_i$ into step 2 gives the same $L_i$ and wages as we had guessed"
   ]
  },
  {
   "cell_type": "code",
   "execution_count": 269,
   "metadata": {},
   "outputs": [],
   "source": [
    "class System2:\n",
    "    def __init__(self, n=10, sigma=5, eta=1):\n",
    "        self.n = n\n",
    "        self.sigma = sigma\n",
    "        self.eta = eta\n",
    "        self.reset()\n",
    "    \n",
    "    def reset(self):\n",
    "        n = self.n\n",
    "\n",
    "        A = np.abs(np.random.randn(n))\n",
    "        L = np.abs(np.random.randn(n))\n",
    "        w = np.abs(np.random.randn(n))\n",
    "        \n",
    "        self.A = normalize(A)\n",
    "        self.L = normalize(L)\n",
    "        self.w = normalize(w)\n",
    "        \n",
    "        self.pi = self.getPi()\n",
    "    \n",
    "    # utility methods\n",
    "    def getPi(self):\n",
    "        \"\"\"\n",
    "        returns the spending (pi) given the wages in each region\n",
    "        \"\"\"\n",
    "        w = self.w\n",
    "        n = self.n\n",
    "        \n",
    "        pi = np.zeros((n,n))\n",
    "        for j in range(n):\n",
    "            pi_ij = (w/self.A) ** (1-self.sigma)\n",
    "            pi_ij = normalize(pi_ij)\n",
    "#             print(pi_ij, sum(pi_ij))\n",
    "            pi[j, :] = pi_ij # set all the i's at once\n",
    "            \n",
    "        return pi\n",
    "    \n",
    "    def newWage(self):\n",
    "        \"\"\"\n",
    "        returns the new wage for a given pi\n",
    "        \"\"\"\n",
    "        return np.matmul(self.pi.T, self.w*self.L) / self.L\n",
    "    \n",
    "    def solveWage(self, trace=False):\n",
    "        \"\"\"\n",
    "        For a given L, iteratively compute pi and w\n",
    "        \"\"\"\n",
    "        wtrace, ltrace = None, None\n",
    "        \n",
    "        if trace:\n",
    "            wtrace = Tracer()\n",
    "            ltrace = Tracer()\n",
    "        \n",
    "        oldWage = self.w\n",
    "        newWage = np.matmul(self.pi.T, self.w*self.L) / self.L\n",
    "        loss = difference(newWage, oldWage)\n",
    "        if trace:\n",
    "            ltrace.log(loss)\n",
    "        \n",
    "        threshold = 1e-5/self.n\n",
    "        max_iter = 4000\n",
    "        \n",
    "        i = 0\n",
    "        while loss > threshold and i < max_iter:\n",
    "            i+=1\n",
    "            if trace:\n",
    "                wtrace.log(self.w)\n",
    "            \n",
    "            # update w\n",
    "            learning_rate = 0.1\n",
    "            delta = newWage - oldWage\n",
    "            self.w = oldWage + learning_rate * delta\n",
    "            self.w = normalize(self.w)\n",
    "            self.pi = self.getPi()\n",
    "            \n",
    "            # new iteration\n",
    "            oldWage = self.w\n",
    "            newWage = np.matmul(self.pi.T, self.w*self.L) / self.L\n",
    "            loss = difference(newWage, oldWage)\n",
    "            if trace:\n",
    "                ltrace.log(loss)\n",
    "        \n",
    "        return wtrace, ltrace\n",
    "    \n",
    "    def spatialPreference(self, w=None):\n",
    "        \"\"\"\n",
    "        computes L_i given the wages w_i\n",
    "        \"\"\"\n",
    "        sigma = self.sigma\n",
    "        eta = self.eta\n",
    "        \n",
    "        if w is None:\n",
    "            w = self.w\n",
    "            \n",
    "        x = sum(w/self.A ** (1-sigma)) ** (1/(1-sigma))            \n",
    "        numerator = (w/x)**eta # numerator\n",
    "        lprime = normalize(numerator) # adds the denominator\n",
    "            \n",
    "        return lprime\n",
    "    \n",
    "    def solveL(self, learning_rate):\n",
    "        \"\"\"\n",
    "        Iteratively solves the spatial preference <> wage relation\n",
    "        \"\"\"\n",
    "        self.solveWage()\n",
    "        \n",
    "        logger = Tracer(print_every=250)\n",
    "        Ltrace = Tracer()\n",
    "        wTrace = Tracer()\n",
    "        \n",
    "        oldL = self.L\n",
    "        newL = self.spatialPreference()\n",
    "        loss = difference(oldL, newL)\n",
    "        logger.log(loss)\n",
    "        \n",
    "        threshold = 1e-6/self.n\n",
    "        max_iter = 4000\n",
    "        \n",
    "        i = 0\n",
    "        while loss > threshold and i < max_iter:\n",
    "            i+=1\n",
    "            Ltrace.log(oldL)\n",
    "            \n",
    "            # update L\n",
    "#             learning_rate = 0.001\n",
    "            delta = newL - oldL\n",
    "            self.L = oldL + learning_rate * delta\n",
    "            self.L = normalize(self.L)\n",
    "            \n",
    "            # with this new distribution of people, we need to solve for the wages\n",
    "            self.solveWage()\n",
    "            wTrace.log(self.w)\n",
    "            \n",
    "            # next iteration\n",
    "            oldL = self.L\n",
    "            newL = self.spatialPreference()\n",
    "            loss = difference(oldL, newL)\n",
    "            logger.log(loss)\n",
    "        \n",
    "        return Ltrace, logger, wTrace\n",
    "        "
   ]
  },
  {
   "cell_type": "code",
   "execution_count": 283,
   "metadata": {},
   "outputs": [
    {
     "name": "stdout",
     "output_type": "stream",
     "text": [
      "Iteration #250: 0.00014652870592970436\n",
      "Iteration #500: 6.173798393315579e-07\n"
     ]
    },
    {
     "data": {
      "text/plain": [
       "<matplotlib.collections.PathCollection at 0x7f463c042198>"
      ]
     },
     "execution_count": 283,
     "metadata": {},
     "output_type": "execute_result"
    },
    {
     "data": {
      "image/png": "[encoded data removed]",
      "text/plain": [
       "<matplotlib.figure.Figure at 0x7f463c2374e0>"
      ]
     },
     "metadata": {},
     "output_type": "display_data"
    }
   ],
   "source": [
    "a = System2(n=30, sigma=10)\n",
    "Ltrace, log, wtrace = a.solveL(0.01)\n",
    "finalL = Ltrace.history[-1]\n",
    "plt.scatter(finalL, a.A)"
   ]
  },
  {
   "cell_type": "markdown",
   "metadata": {},
   "source": [
    "## See if this works"
   ]
  },
  {
   "cell_type": "markdown",
   "metadata": {},
   "source": [
    "With a larger system, and different parameters"
   ]
  },
  {
   "cell_type": "code",
   "execution_count": 291,
   "metadata": {},
   "outputs": [
    {
     "name": "stdout",
     "output_type": "stream",
     "text": [
      "Iteration #250: 0.00016507833550081973\n",
      "Iteration #500: 6.336321242667553e-08\n"
     ]
    },
    {
     "data": {
      "text/plain": [
       "<matplotlib.collections.PathCollection at 0x7f4637fa31d0>"
      ]
     },
     "execution_count": 291,
     "metadata": {},
     "output_type": "execute_result"
    },
    {
     "data": {
      "image/png": "[encoded data removed]",
      "text/plain": [
       "<matplotlib.figure.Figure at 0x7f463c0cc518>"
      ]
     },
     "metadata": {},
     "output_type": "display_data"
    }
   ],
   "source": [
    "a = System2(n=30, eta=4)\n",
    "\n",
    "Ltrace, logger, wtrace = a.solveL(learning_rate=0.01)\n",
    "\n",
    "finalL = Ltrace.history[-1]\n",
    "plt.scatter(finalL, a.A)"
   ]
  },
  {
   "cell_type": "markdown",
   "metadata": {},
   "source": [
    "# What if we formulate this as a deep learning problem?"
   ]
  },
  {
   "cell_type": "code",
   "execution_count": 3,
   "metadata": {},
   "outputs": [],
   "source": [
    "import torch\n",
    "import torch.functional as F\n",
    "import torch.optim as optim"
   ]
  },
  {
   "cell_type": "code",
   "execution_count": 1,
   "metadata": {},
   "outputs": [],
   "source": [
    "class System3:\n",
    "    def __init__(self, n=10, sigma=5, eta=1):\n",
    "        self.n = n\n",
    "        self.sigma = sigma\n",
    "        self.eta = eta\n",
    "        self.reset()\n",
    "    \n",
    "    def reset(self):\n",
    "        n = self.n\n",
    "\n",
    "        A = np.abs(np.random.randn(n))\n",
    "        L = np.abs(np.random.randn(n))\n",
    "        w = np.abs(np.random.randn(n))\n",
    "        \n",
    "        self.A = normalize(A)\n",
    "        self.L = normalize(L)\n",
    "        self.w = normalize(w)\n",
    "        \n",
    "        self.pi = self.getPi()\n",
    "    \n",
    "    # utility methods\n",
    "    def getPi(self):\n",
    "        \"\"\"\n",
    "        returns the spending (pi) given the wages in each region\n",
    "        \"\"\"\n",
    "        w = self.w\n",
    "        n = self.n\n",
    "        \n",
    "        pi = np.zeros((n,n))\n",
    "        for j in range(n):\n",
    "            pi_ij = (w/self.A) ** (1-self.sigma)\n",
    "            pi_ij = normalize(pi_ij)\n",
    "#             print(pi_ij, sum(pi_ij))\n",
    "            pi[j, :] = pi_ij # set all the i's at once\n",
    "            \n",
    "        return pi\n",
    "    \n",
    "    def newWage(self):\n",
    "        \"\"\"\n",
    "        returns the new wage for a given pi\n",
    "        \"\"\"\n",
    "        return np.matmul(self.pi.T, self.w*self.L) / self.L\n",
    "    \n",
    "    def solveWage(self, trace=False):\n",
    "        \"\"\"\n",
    "        For a given L, iteratively compute pi and w\n",
    "        \"\"\"\n",
    "        wtrace, ltrace = None, None\n",
    "        \n",
    "        if trace:\n",
    "            wtrace = Tracer()\n",
    "            ltrace = Tracer()\n",
    "        \n",
    "        oldWage = self.w\n",
    "        newWage = np.matmul(self.pi.T, self.w*self.L) / self.L\n",
    "        loss = difference(newWage, oldWage)\n",
    "        if trace:\n",
    "            ltrace.log(loss)\n",
    "        \n",
    "        threshold = 1e-5/self.n\n",
    "        max_iter = 4000\n",
    "        \n",
    "        i = 0\n",
    "        while loss > threshold and i < max_iter:\n",
    "            i+=1\n",
    "            if trace:\n",
    "                wtrace.log(self.w)\n",
    "            \n",
    "            # update w\n",
    "            learning_rate = 0.1\n",
    "            delta = newWage - oldWage\n",
    "            self.w = oldWage + learning_rate * delta\n",
    "            self.w = normalize(self.w)\n",
    "            self.pi = self.getPi()\n",
    "            \n",
    "            # new iteration\n",
    "            oldWage = self.w\n",
    "            newWage = np.matmul(self.pi.T, self.w*self.L) / self.L\n",
    "            loss = difference(newWage, oldWage)\n",
    "            if trace:\n",
    "                ltrace.log(loss)\n",
    "        \n",
    "        return wtrace, ltrace\n",
    "    "
   ]
  },
  {
   "cell_type": "markdown",
   "metadata": {},
   "source": [
    "# Some observations\n",
    "\n",
    "* $\\eta$ seems to control the degree to which the wage influences the location. If $\\eta$ is very large, then the wage matters a lot, and people would move to the place **or at least it used to. now $\\eta$ simply affects the learning rate, since everything smooths out eventually**\n",
    "* we can also play with different initializations of $A$ to see if that changes anything"
   ]
  },
  {
   "cell_type": "markdown",
   "metadata": {},
   "source": [
    "## Let's explore the spatialPreference() function:\n",
    "\n",
    "```\n",
    "        x = sum(w/self.A ** (1-sigma)) ** (1/(1-sigma))            \n",
    "        numerator = (w/x)**eta # numerator\n",
    "        lprime = normalize(numerator) # adds the denominator\n",
    "            \n",
    "        return lprime\n",
    "    \n",
    "```"
   ]
  },
  {
   "cell_type": "code",
   "execution_count": 221,
   "metadata": {},
   "outputs": [
    {
     "data": {
      "text/plain": [
       "array([0.0563968 , 0.03779029, 0.02880735, 0.01728311, 0.05067745,\n",
       "       0.00998651, 0.01279852, 0.0192588 , 0.009584  , 0.0347511 ,\n",
       "       0.03165686, 0.02414652, 0.09249942, 0.00122891, 0.02392189,\n",
       "       0.02366708, 0.05544037, 0.01036221, 0.04598511, 0.0607546 ,\n",
       "       0.06586429, 0.03042325, 0.00329343, 0.02891651, 0.095264  ,\n",
       "       0.03925903, 0.00192433, 0.0108025 , 0.02352885, 0.0537269 ])"
      ]
     },
     "execution_count": 221,
     "metadata": {},
     "output_type": "execute_result"
    }
   ],
   "source": [
    "economy.reset()\n",
    "w = economy.w\n",
    "w"
   ]
  },
  {
   "cell_type": "code",
   "execution_count": 222,
   "metadata": {},
   "outputs": [
    {
     "data": {
      "text/plain": [
       "5"
      ]
     },
     "execution_count": 222,
     "metadata": {},
     "output_type": "execute_result"
    }
   ],
   "source": [
    "economy.sigma"
   ]
  },
  {
   "cell_type": "code",
   "execution_count": 223,
   "metadata": {},
   "outputs": [
    {
     "data": {
      "text/plain": [
       "Text(0,0.5,'Resulting L')"
      ]
     },
     "execution_count": 223,
     "metadata": {},
     "output_type": "execute_result"
    },
    {
     "data": {
      "image/png": "[encoded data removed]",
      "text/plain": [
       "<matplotlib.figure.Figure at 0x7f46366d9710>"
      ]
     },
     "metadata": {},
     "output_type": "display_data"
    }
   ],
   "source": [
    "s = np.linspace(1.001, 50)\n",
    "lists = []\n",
    "eta = 5\n",
    "for sigma in s:\n",
    "    x = np.sum(w/economy.A ** (1-sigma)) ** (1/(1-sigma))\n",
    "    numerator = np.exp(w/x)**eta\n",
    "    numerator = normalize(numerator)\n",
    "    lists.append(numerator)\n",
    "\n",
    "_ = plt.plot(s, np.array(lists), 'r+', linewidth=1)\n",
    "plt.xlabel('sigma')\n",
    "plt.ylabel('Resulting L')"
   ]
  },
  {
   "cell_type": "code",
   "execution_count": null,
   "metadata": {},
   "outputs": [],
   "source": []
  }
 ],
 "metadata": {
  "kernelspec": {
   "display_name": "Python 3",
   "language": "python",
   "name": "python3"
  },
  "language_info": {
   "codemirror_mode": {
    "name": "ipython",
    "version": 3
   },
   "file_extension": ".py",
   "mimetype": "text/x-python",
   "name": "python",
   "nbconvert_exporter": "python",
   "pygments_lexer": "ipython3",
   "version": "3.6.4"
  }
 },
 "nbformat": 4,
 "nbformat_minor": 2
}
