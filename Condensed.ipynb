{
 "cells": [
  {
   "cell_type": "code",
   "execution_count": 3,
   "metadata": {},
   "outputs": [],
   "source": [
    "import numpy as np\n",
    "import matplotlib.pyplot as plt\n",
    "%matplotlib inline\n",
    "\n",
    "import os\n",
    "import pandas as pd\n",
    "\n",
    "from scipy.special import gamma\n",
    "from scipy.stats import invweibull as frechet\n",
    "def myGamma(zeta):\n",
    "    return gamma(1-1/zeta)\n",
    "\n",
    "DIR = r\"/home/cz/Dropbox/Summer RA Model EP/Parameters/\"\n",
    "\n",
    "\n",
    "class Params(object):\n",
    "    pass\n",
    "\n",
    "def read(name):\n",
    "    myfile = os.path.join(DIR, 'ep_{}.csv'.format(name))\n",
    "    df=pd.read_csv(myfile, header=None)\n",
    "    return df\n",
    "\n",
    "def pv(name, mat):\n",
    "    print(\"{}: {}\".format(name.rjust(10), mat.shape))\n",
    "    \n",
    "def read_matrix(name, verbose=True):\n",
    "    df = read(name)\n",
    "    mat = df.values\n",
    "    if verbose:\n",
    "        pv(name, mat)\n",
    "    return mat\n",
    "\n",
    "def read_params():\n",
    "    param = Params()\n",
    "    with open(os.path.join(DIR, 'ep_params.csv')) as f:\n",
    "        lines = f.readlines()\n",
    "        values = lines[0].split(',')\n",
    "        names = lines[2].replace('[','').replace(']','').strip().split(' ')\n",
    "\n",
    "        if len(values) != len(names):\n",
    "            print('not sure how to read this...')\n",
    "            print(lines)\n",
    "\n",
    "        print('Found {} parameters'.format(len(values)))    \n",
    "        for k,v in zip(names, values):\n",
    "            print('{} = {}'.format(k,v))\n",
    "            setattr(param, k.split('.')[1], float(v))\n",
    "    \n",
    "    return param"
   ]
  },
  {
   "cell_type": "code",
   "execution_count": 4,
   "metadata": {},
   "outputs": [
    {
     "name": "stdout",
     "output_type": "stream",
     "text": [
      "Found 13 parameters\n",
      "param.beta = 0.28818\n",
      "param.q = 0.67565\n",
      "param.mu = 3.4112\n",
      "param.zeta = 1.62\n",
      "param.alpha = 0.05\n",
      "param.sigma = 4\n",
      "param.psi = 0.76551\n",
      "param.delta = 0.91803\n",
      "param.eta = 0.35\n",
      "param.gamma = 0.35055\n",
      "param.nu = 0.0187\n",
      "param.kappa = 0.42\n",
      "param.r = 2.8866\n",
      "\n"
     ]
    }
   ],
   "source": [
    "param = read_params()"
   ]
  },
  {
   "cell_type": "code",
   "execution_count": 5,
   "metadata": {},
   "outputs": [
    {
     "data": {
      "text/plain": [
       "2.3211529336709016"
      ]
     },
     "execution_count": 5,
     "metadata": {},
     "output_type": "execute_result"
    }
   ],
   "source": [
    "myGamma(param.zeta)"
   ]
  },
  {
   "cell_type": "code",
   "execution_count": 6,
   "metadata": {},
   "outputs": [
    {
     "name": "stdout",
     "output_type": "stream",
     "text": [
      " skill1880: (645, 2)\n",
      "  wage1880: (645, 2)\n",
      "       Q_A: (645, 5)\n",
      "      Q_NA: (645, 5)\n",
      "         Z: (5, 2)\n",
      "        vA: (5, 1)\n",
      "   Capital: (5, 1)\n",
      "       phi: (4, 1)\n",
      "       tau: (645, 645)\n",
      " amenities: (645, 5)\n"
     ]
    }
   ],
   "source": [
    "skills, wages = read_matrix(\"skill1880\"), read_matrix(\"wage1880\")\n",
    "Q_A, Q_NA = read_matrix(\"Q_A\"), read_matrix(\"Q_NA\")\n",
    "\n",
    "Z = read_matrix(\"Z\")\n",
    "vA = read_matrix(\"vA\")\n",
    "Capital = read_matrix(\"Capital\")\n",
    "phi = read_matrix(\"phi\")\n",
    "\n",
    "tau = read_matrix(\"tau\")\n",
    "amenities = read_matrix(\"amenities\")"
   ]
  },
  {
   "cell_type": "markdown",
   "metadata": {},
   "source": [
    "## Mess with the variables a bit"
   ]
  },
  {
   "cell_type": "code",
   "execution_count": 7,
   "metadata": {},
   "outputs": [
    {
     "name": "stdout",
     "output_type": "stream",
     "text": [
      "    skills: (1, 2, 645)\n",
      "     wages: (1, 2, 645)\n",
      "         Q: (5, 2, 645)\n",
      "       vAt: (2, 1)\n",
      "   Capital: (5,)\n",
      "       tau: (645, 645)\n",
      " amenities: (5, 645)\n"
     ]
    }
   ],
   "source": [
    "# expand the axes\n",
    "skills = np.expand_dims(skills, 2).transpose((2,1,0))\n",
    "pv(\"skills\", skills)\n",
    "\n",
    "wages = np.expand_dims(wages, 2).transpose((2,1,0))\n",
    "pv(\"wages\", wages)\n",
    "\n",
    "Q = np.stack((Q_A, Q_NA), axis=1).transpose((2,1,0))\n",
    "pv(\"Q\", Q)\n",
    "\n",
    "vA = vA.flatten()\n",
    "vAt= np.array([vA[1], 1-vA[1]]).reshape(2,1)\n",
    "pv(\"vAt\", vAt)\n",
    "\n",
    "Capital = Capital.flatten()\n",
    "pv(\"Capital\", Capital)\n",
    "\n",
    "pv(\"tau\", tau)\n",
    "\n",
    "amenities = amenities.transpose((1,0))\n",
    "pv(\"amenities\", amenities)"
   ]
  },
  {
   "cell_type": "code",
   "execution_count": 11,
   "metadata": {},
   "outputs": [],
   "source": [
    "# define some constants for indexing\n",
    "t = 0\n",
    "A, NA = 0,1\n",
    "L, H = 0,1\n",
    "R,S,T = 2,1,0\n",
    "\n",
    "Psi = np.array([[1,1],\n",
    "                [1,1.6]])"
   ]
  },
  {
   "cell_type": "code",
   "execution_count": 12,
   "metadata": {},
   "outputs": [
    {
     "name": "stdout",
     "output_type": "stream",
     "text": [
      "(1, 2) (1, 645) (1, 2, 645)\n"
     ]
    },
    {
     "data": {
      "text/plain": [
       "array([[0.7046579 , 0.29534209]])"
      ]
     },
     "execution_count": 12,
     "metadata": {},
     "output_type": "execute_result"
    }
   ],
   "source": [
    "overall_lamda = np.sum(skills, axis=R) # this is \\lambda overall\n",
    "Lrt = np.sum(skills, axis=S)\n",
    "lam_rt = (skills/Lrt)\n",
    "\n",
    "print(overall_lamda.shape, Lrt.shape, lam_rt.shape)\n",
    "\n",
    "# now we can do things like this:\n",
    "np.sum(Lrt * lam_rt, axis=R)"
   ]
  },
  {
   "cell_type": "markdown",
   "metadata": {},
   "source": [
    "The majorit of commuting zones had agricultural employment shares exceeding 75% in 1880..."
   ]
  },
  {
   "cell_type": "code",
   "execution_count": 13,
   "metadata": {},
   "outputs": [
    {
     "data": {
      "image/png": "[encoded data removed]",
      "text/plain": [
       "<matplotlib.figure.Figure at 0x7ff5029be208>"
      ]
     },
     "metadata": {},
     "output_type": "display_data"
    }
   ],
   "source": [
    "plt.hist(lam_rt[t,A], bins=50)\n",
    "plt.show()"
   ]
  },
  {
   "cell_type": "code",
   "execution_count": 14,
   "metadata": {},
   "outputs": [
    {
     "data": {
      "image/png": "[encoded data removed]",
      "text/plain": [
       "<matplotlib.figure.Figure at 0x7ff500922358>"
      ]
     },
     "metadata": {},
     "output_type": "display_data"
    }
   ],
   "source": [
    "plt.hist(lam_rt[t,NA], bins=50)\n",
    "plt.show()"
   ]
  },
  {
   "cell_type": "code",
   "execution_count": 15,
   "metadata": {},
   "outputs": [
    {
     "data": {
      "text/plain": [
       "(63, 122)"
      ]
     },
     "execution_count": 15,
     "metadata": {},
     "output_type": "execute_result"
    }
   ],
   "source": [
    "np.sum(lam_rt[t,NA] > .99), np.sum(lam_rt[t,NA] < .01)"
   ]
  },
  {
   "cell_type": "markdown",
   "metadata": {},
   "source": [
    "# Define methods"
   ]
  },
  {
   "cell_type": "markdown",
   "metadata": {},
   "source": [
    "Old:\n",
    "```\n",
    "regionalRevenue = (1-param.alpha) * pi[A] * vA[1] * GDP\n",
    "regionalEarnings = Lrt * myGamma(param.zeta) * (lam_rt[t,L] * Psi[L,A] + lam_rt[t,H] * Psi[H,A])\n",
    "\n",
    "newWages = regionalRevenue / regionalEarnings\n",
    "\n",
    "regionalRevenue_NA = (1-param.alpha) * pi[NA] * (1 - vA[1]) * GDP\n",
    "regionalEarnings_NA = Lrt * myGamma(param.zeta) * (lam_rt[t,L] * Psi[L,NA] + lam_rt[t,H] * Psi[H,NA])\n",
    "\n",
    "newWages_NA = regionalRevenue_NA / regionalEarnings_NA\n",
    "```\n",
    "\n",
    "New:\n",
    "```\n",
    "regionalRevenue = (1-param.alpha) * pi * vAt *  GDP\n",
    "x = Lrt * myGamma(param.zeta) * np.matmul(lam_rt.transpose((2,0,1)), Psi).transpose((1,2,0))\n",
    "\n",
    "newWages = regionalRevenue/x\n",
    "```\n",
    "\n",
    "Is it faster? I don't know if it's easier to read..."
   ]
  },
  {
   "cell_type": "code",
   "execution_count": 16,
   "metadata": {},
   "outputs": [],
   "source": [
    "# useful for resets\n",
    "def readWages(verbose=False):\n",
    "    wages = read_matrix(\"wage1880\", verbose)\n",
    "    wages = np.expand_dims(wages, 2).transpose((2,1,0))\n",
    "    return wages\n",
    "\n",
    "def readSkills():\n",
    "    skills = read_matrix(\"skill1880\")\n",
    "    skills = np.expand_dims(skills, 2).transpose((2,1,0))\n",
    "    return skills\n",
    "\n",
    "def computePi(wages):\n",
    "    pi = Q[t]**(param.sigma-1) * wages**((1-param.alpha)*(1-param.sigma))\n",
    "    # pi has shape (1, 2, 645)\n",
    "    normalize = np.sum(pi, axis=R)\n",
    "    # normalize has shape (1,2)\n",
    "    normalize = np.expand_dims(normalize, 2)\n",
    "    pi = pi / (normalize ** (1/(1-param.sigma)))\n",
    "    return pi\n",
    "\n",
    "def computeTheta(wages):\n",
    "    Theta = np.matmul(Psi, wages**(param.zeta)) ** (1/param.zeta)\n",
    "    Theta_l = Theta[0,L]\n",
    "    Theta_h = Theta[0,H]\n",
    "    return Theta_h, Theta_l, Theta\n",
    "\n",
    "def computeGDP(lam_rt, Theta_h, Theta_l):\n",
    "    constant= 1/(1-param.alpha) * myGamma(param.zeta)\n",
    "    GDP = constant * np.sum(Lrt * (lam_rt * Theta_h + (1-lam_rt) * Theta_l))\n",
    "    return GDP\n",
    "    "
   ]
  },
  {
   "cell_type": "code",
   "execution_count": 17,
   "metadata": {},
   "outputs": [
    {
     "data": {
      "text/plain": [
       "Text(0,0.5,'pi')"
      ]
     },
     "execution_count": 17,
     "metadata": {},
     "output_type": "execute_result"
    },
    {
     "data": {
      "image/png": "[encoded data removed]",
      "text/plain": [
       "<matplotlib.figure.Figure at 0x7ff5007d5a20>"
      ]
     },
     "metadata": {},
     "output_type": "display_data"
    }
   ],
   "source": [
    "pi = computePi(wages)\n",
    "plt.scatter(Q[t,NA], pi[t,NA])\n",
    "plt.xlabel('Q'); plt.ylabel('pi')"
   ]
  },
  {
   "cell_type": "code",
   "execution_count": 18,
   "metadata": {},
   "outputs": [],
   "source": [
    "def loopy(wages, log=True):\n",
    "    lr = 0.1\n",
    "    loss = 10\n",
    "\n",
    "    for i in range(1000):\n",
    "\n",
    "        pi = computePi(wages)\n",
    "        Theta_h, Theta_l, Theta = computeTheta(wages)\n",
    "        GDP = computeGDP(lam_rt, Theta_h, Theta_l)\n",
    "\n",
    "        regionalRevenue = (1-param.alpha) * pi * vAt *  GDP\n",
    "        x = Lrt * myGamma(param.zeta) * np.matmul(lam_rt.transpose((2,0,1)), Psi).transpose((1,2,0))\n",
    "\n",
    "        newWages = regionalRevenue/x\n",
    "        # normalize wages\n",
    "#         newWages = newWages / np.expand_dims(np.sum(newWages, axis=R), 2)\n",
    "        \n",
    "        loss = np.sum(np.abs(newWages - wages))\n",
    "\n",
    "        # update\n",
    "        wages = lr * newWages + (1-lr) * wages\n",
    "        \n",
    "        if loss < 1e-6:\n",
    "            if log:\n",
    "                print('Iteration #{}: {}'.format(i, loss))\n",
    "            break\n",
    "            \n",
    "        if i % 20 == 0 and log:\n",
    "            print('Iteration #{}: {}'.format(i, loss))\n",
    "            \n",
    "    return wages\n"
   ]
  },
  {
   "cell_type": "code",
   "execution_count": 26,
   "metadata": {},
   "outputs": [
    {
     "name": "stdout",
     "output_type": "stream",
     "text": [
      "Iteration #0: 910.3970419404111\n",
      "Iteration #20: 16.708560446617287\n",
      "Iteration #40: 3.3742854064642778\n",
      "Iteration #60: 0.029531213174176008\n",
      "Iteration #80: 6.844608090978143e-06\n",
      "Iteration #87: 7.888615312408202e-07\n"
     ]
    },
    {
     "data": {
      "text/plain": [
       "Text(0,0.5,'log Non-Agricultural wages')"
      ]
     },
     "execution_count": 26,
     "metadata": {},
     "output_type": "execute_result"
    },
    {
     "data": {
      "image/png": "[encoded data removed]",
      "text/plain": [
       "<matplotlib.figure.Figure at 0x7ff50082e5c0>"
      ]
     },
     "metadata": {},
     "output_type": "display_data"
    }
   ],
   "source": [
    "wages = readWages()\n",
    "\n",
    "def draw(wages):\n",
    "    plot_params = {\n",
    "        'alpha': 0.4,\n",
    "        's': 4\n",
    "    }\n",
    "    \n",
    "    plt.scatter(np.log(wages[t,A]), np.log(wages[t,NA]),\n",
    "           **plot_params)\n",
    "    \n",
    "    \n",
    "plt.figure(figsize=(12,6))\n",
    "\n",
    "# before\n",
    "draw(wages)\n",
    "draw(wages)\n",
    "\n",
    "newWages = loopy(wages)\n",
    "\n",
    "# after\n",
    "draw(newWages)\n",
    "plt.legend(['before', 'after'])\n",
    "plt.xlabel('log Agricultural wages'); plt.ylabel('log Non-Agricultural wages')"
   ]
  },
  {
   "cell_type": "markdown",
   "metadata": {},
   "source": [
    "This is the plot that I'm not sure about. Are the wages for Non-Agricultural sectors supposed to be bunched near 0?"
   ]
  },
  {
   "cell_type": "markdown",
   "metadata": {},
   "source": [
    "## Incorporating mobility"
   ]
  },
  {
   "cell_type": "code",
   "execution_count": 27,
   "metadata": {},
   "outputs": [
    {
     "name": "stdout",
     "output_type": "stream",
     "text": [
      "2.8866 0.7655096595807223 0.7005475951092922 1.1896852061132865\n"
     ]
    }
   ],
   "source": [
    "def psi(r):\n",
    "    n = param.eta\n",
    "    ret = 1 + (param.beta**(1/(1-n))) * ((1+r)**(n/(1-n)))\n",
    "    return 1/ret\n",
    "\n",
    "interest_rate = param.r\n",
    "consumption_share = psi(interest_rate)\n",
    "\n",
    "aa = myGamma(param.eta/param.zeta)/param.eta\n",
    "bb = consumption_share**(param.eta-1)\n",
    "\n",
    "print(interest_rate, consumption_share, aa,bb)"
   ]
  },
  {
   "cell_type": "code",
   "execution_count": 28,
   "metadata": {},
   "outputs": [
    {
     "data": {
      "text/plain": [
       "array([[0.7046579 , 0.29534209]])"
      ]
     },
     "execution_count": 28,
     "metadata": {},
     "output_type": "execute_result"
    }
   ],
   "source": [
    "def computeMobility(wages):\n",
    "    _,_,Theta = computeTheta(wages)    \n",
    "    expectedUtility = myGamma(param.zeta)*Theta\n",
    "    \n",
    "    # since the interest rate is a constant, we can take psi(r_{t+1}) to be a constant too\n",
    "    W_rt = aa*bb * expectedUtility**param.eta + amenities[1] # amenities in 1910\n",
    "\n",
    "    # tau is indexed like j x r\n",
    "    stuff = np.expand_dims(W_rt, 2) - tau\n",
    "\n",
    "    sums = np.sum(np.exp(1/param.kappa * stuff), axis=3) # across the R's, not the j's\n",
    "    sums = np.expand_dims(sums, 3)\n",
    "\n",
    "    movingProbs = np.exp(1/param.kappa * stuff)/sums \n",
    "    oldL = np.expand_dims((Lrt*lam_rt), axis=3)\n",
    "    new = np.sum(movingProbs * oldL, axis=2)\n",
    "    \n",
    "    return new\n",
    "\n",
    "newSkills = computeMobility(wages)\n",
    "np.sum(newSkills, axis=R) # note that the overall lambda stays the same... since we didn't change that part"
   ]
  },
  {
   "cell_type": "code",
   "execution_count": 29,
   "metadata": {},
   "outputs": [
    {
     "name": "stdout",
     "output_type": "stream",
     "text": [
      " skill1880: (645, 2)\n",
      "L---- #0: 0.3771393027420872\n",
      "L---- #10: 0.037872021013707735\n",
      "L---- #20: 0.01792319379401997\n",
      "L---- #30: 0.012526583553862984\n",
      "L---- #40: 0.010821949036747217\n",
      "L---- #50: 0.009724231731917603\n",
      "L---- #60: 0.008825727069705087\n",
      "L---- #70: 0.008046866398584054\n",
      "L---- #80: 0.0073587431286999344\n",
      "L---- #90: 0.006746663204261298\n",
      "L---- #100: 0.006199546609088857\n",
      "L---- #110: 0.005707803921011615\n",
      "L---- #120: 0.005264183121282403\n",
      "L---- #130: 0.004862631159970903\n",
      "L---- #140: 0.004498029089554672\n",
      "L---- #150: 0.004166028496453204\n",
      "L---- #160: 0.003862910049107755\n",
      "L---- #170: 0.00358548991953408\n",
      "L---- #180: 0.0033310184026767156\n",
      "L---- #190: 0.0030971271566222446\n",
      "L---- #200: 0.0028817592561148973\n",
      "L---- #210: 0.0026831202734027134\n",
      "L---- #220: 0.0024996377927156603\n",
      "L---- #230: 0.002329952203564082\n",
      "L---- #240: 0.0021728265998279114\n",
      "L---- #250: 0.002027165597450074\n",
      "L---- #260: 0.0018920012597103538\n",
      "L---- #270: 0.0017688501312353383\n",
      "L---- #280: 0.0016551577228424382\n",
      "L---- #290: 0.00154913555334108\n",
      "L---- #300: 0.0014506351502908117\n",
      "L---- #310: 0.0013593223291598552\n",
      "L---- #320: 0.0012739680859475161\n",
      "L---- #330: 0.0011941513000053488\n",
      "L---- #340: 0.0011194851496684546\n",
      "L---- #350: 0.0010496142712796835\n",
      "L---- #360: 0.0009842111316358943\n",
      "L---- #370: 0.0009229732839507268\n",
      "L---- #380: 0.0008656230864524208\n",
      "L---- #390: 0.0008119005509930415\n",
      "L---- #400: 0.0007615649532900571\n",
      "L---- #410: 0.0007143949965275535\n",
      "L---- #420: 0.0006701819587096991\n",
      "L---- #430: 0.0006287338400285665\n",
      "L---- #440: 0.0005898744606923887\n",
      "L---- #450: 0.0005534432848129222\n",
      "L---- #460: 0.0005192761714235916\n",
      "L---- #470: 0.00048722952255978206\n",
      "L---- #480: 0.0004571689794309139\n",
      "L---- #490: 0.0004289714927475937\n",
      "L---- #500: 0.000402525745114874\n",
      "L---- #510: 0.0003777116606738903\n",
      "L---- #520: 0.0003544270594688951\n",
      "L---- #530: 0.0003325765210652667\n",
      "L---- #540: 0.0003120708428000301\n",
      "L---- #550: 0.00029282767027741024\n",
      "L---- #560: 0.0002747713292635285\n",
      "L---- #570: 0.00025782912473057954\n",
      "L---- #580: 0.00024193273221837866\n",
      "L---- #590: 0.00022701376556551412\n",
      "L---- #600: 0.00021301063256640862\n",
      "L---- #610: 0.00019986881383668537\n",
      "L---- #620: 0.000187546991977762\n",
      "L---- #630: 0.00017598391414390765\n",
      "L---- #640: 0.00016513765898726584\n",
      "L---- #650: 0.00015496428280501343\n",
      "L---- #660: 0.0001454175306087509\n",
      "L---- #670: 0.00013646247792855162\n",
      "L---- #680: 0.0001280623003523462\n",
      "L---- #690: 0.00012026792196949052\n",
      "L---- #700: 0.00011300248321963381\n",
      "L---- #710: 0.00010618047451297891\n",
      "L---- #720: 9.980990968246349e-05\n",
      "L---- #730: 9.39363293621484e-05\n",
      "L---- #740: 8.841973810772378e-05\n",
      "L---- #750: 8.323433944542097e-05\n",
      "L---- #760: 7.835874507300785e-05\n",
      "L---- #770: 7.377572831556505e-05\n",
      "L---- #780: 6.946911505566791e-05\n",
      "L---- #790: 6.541930898464548e-05\n",
      "L---- #800: 6.198560410998766e-05\n",
      "L---- #810: 5.8966422153858777e-05\n",
      "L---- #820: 5.610618878246716e-05\n",
      "L---- #830: 5.3396086515254286e-05\n",
      "L---- #840: 5.082751779255346e-05\n",
      "L---- #850: 4.839301832230742e-05\n",
      "L---- #860: 4.608641819352469e-05\n",
      "L---- #870: 4.3900260612978934e-05\n",
      "L---- #880: 4.1826857852569405e-05\n",
      "L---- #890: 3.986202322538237e-05\n",
      "L---- #900: 3.8002648587224306e-05\n",
      "L---- #910: 3.625353022562527e-05\n",
      "L---- #920: 3.4592845074449935e-05\n",
      "L---- #930: 3.301556905653975e-05\n",
      "L---- #940: 3.1531772199281386e-05\n",
      "L---- #950: 3.012922360924186e-05\n",
      "L---- #960: 2.87954760481083e-05\n",
      "L---- #970: 2.7527026111558326e-05\n",
      "L---- #980: 2.6320872705369103e-05\n",
      "L---- #990: 2.5173128214316674e-05\n",
      "L---- #1000: 2.4080733397358773e-05\n",
      "L---- #1010: 2.310393958467207e-05\n",
      "L---- #1020: 2.219278629669461e-05\n",
      "L---- #1030: 2.132186337803419e-05\n",
      "L---- #1040: 2.048891646682024e-05\n",
      "L---- #1050: 1.969210185208965e-05\n",
      "L---- #1060: 1.8929679006375426e-05\n",
      "L---- #1070: 1.819999181736903e-05\n",
      "L---- #1080: 1.7501474174959186e-05\n",
      "L---- #1090: 1.6832641637850603e-05\n",
      "L---- #1100: 1.6192087123157928e-05\n",
      "L---- #1110: 1.557847664978988e-05\n",
      "L---- #1120: 1.4990545316220504e-05\n",
      "L---- #1130: 1.4427110853615078e-05\n",
      "L---- #1140: 1.3887023692859726e-05\n",
      "L---- #1150: 1.3369196030346815e-05\n",
      "L---- #1160: 1.2872626617049191e-05\n",
      "L---- #1170: 1.2396370004986896e-05\n",
      "L---- #1180: 1.1939463127690681e-05\n",
      "L---- #1190: 1.1501044815169932e-05\n",
      "L---- #1200: 1.1080250203206622e-05\n",
      "L---- #1210: 1.0676299457293798e-05\n",
      "L---- #1220: 1.0291757898672007e-05\n",
      "L---- #1230: 9.923034204038171e-06\n",
      "L---- #1240: 9.568629400645057e-06\n",
      "L---- #1250: 9.227925689370919e-06\n",
      "L---- #1260: 8.900335097959766e-06\n",
      "L---- #1270: 8.585297893929044e-06\n",
      "L---- #1280: 8.282281090909032e-06\n",
      "L---- #1290: 7.990778125074004e-06\n",
      "L---- #1300: 7.710331077915353e-06\n",
      "L---- #1310: 7.443154268589111e-06\n",
      "L---- #1320: 7.188289636368042e-06\n",
      "L---- #1330: 6.9426800016422985e-06\n",
      "L---- #1340: 6.705958059705028e-06\n",
      "L---- #1350: 6.477773398179658e-06\n",
      "L---- #1360: 6.2577923984890415e-06\n",
      "L---- #1370: 6.045698186807824e-06\n",
      "L---- #1380: 5.841172831205162e-06\n",
      "L---- #1390: 5.6439278428703495e-06\n",
      "L---- #1400: 5.453682531414294e-06\n",
      "L---- #1410: 5.270168281758068e-06\n",
      "L---- #1420: 5.093127948496925e-06\n",
      "L---- #1430: 4.9223152991615825e-06\n",
      "L---- #1440: 4.757498927744267e-06\n",
      "L---- #1450: 4.5984991015132225e-06\n",
      "L---- #1460: 4.445045897796358e-06\n",
      "L---- #1470: 4.296930387529989e-06\n",
      "L---- #1480: 4.153952769164702e-06\n",
      "L---- #1490: 4.0159225936387095e-06\n",
      "L---- #1500: 3.882658951320793e-06\n",
      "L---- #1510: 3.753986546496309e-06\n",
      "L---- #1520: 3.6297356865906062e-06\n",
      "L---- #1530: 3.5097519152637512e-06\n",
      "L---- #1540: 3.393866348776145e-06\n",
      "L---- #1550: 3.2819367124366405e-06\n",
      "L---- #1560: 3.1738200833667256e-06\n",
      "L---- #1570: 3.0693791979653266e-06\n",
      "L---- #1580: 2.968483585704119e-06\n",
      "L---- #1590: 2.871006769533834e-06\n",
      "L---- #1600: 2.7768272791186886e-06\n",
      "L---- #1610: 2.685832334185963e-06\n",
      "L---- #1620: 2.5978947622019043e-06\n",
      "L---- #1630: 2.512914635420444e-06\n",
      "L---- #1640: 2.430789546271538e-06\n",
      "L---- #1650: 2.351417016677388e-06\n",
      "L---- #1660: 2.274700686543342e-06\n",
      "L---- #1670: 2.2005491935713716e-06\n",
      "L---- #1680: 2.1288720223823807e-06\n",
      "L---- #1690: 2.0595825587467758e-06\n",
      "L---- #1700: 1.9926067714070373e-06\n",
      "L---- #1710: 1.927848576740714e-06\n",
      "L---- #1720: 1.8652395199118045e-06\n",
      "L---- #1730: 1.8047049099923878e-06\n",
      "L---- #1740: 1.7461732247977049e-06\n",
      "L---- #1750: 1.6895758367560435e-06\n",
      "L---- #1760: 1.6348466826482692e-06\n",
      "L---- #1770: 1.5819219665147922e-06\n",
      "L---- #1780: 1.5307402331231221e-06\n",
      "L---- #1790: 1.4812514166563375e-06\n"
     ]
    },
    {
     "data": {
      "text/plain": [
       "[<matplotlib.lines.Line2D at 0x7ff50093d080>]"
      ]
     },
     "execution_count": 29,
     "metadata": {},
     "output_type": "execute_result"
    },
    {
     "data": {
      "image/png": "[encoded data removed]",
      "text/plain": [
       "<matplotlib.figure.Figure at 0x7ff5006a9c18>"
      ]
     },
     "metadata": {},
     "output_type": "display_data"
    }
   ],
   "source": [
    "lr = 0.9\n",
    "losses = []\n",
    "\n",
    "wages  = readWages()\n",
    "skills = readSkills()\n",
    "\n",
    "for i in range(1800):\n",
    "    overall_lamda = np.sum(skills, axis=R) # this is \\lambda overall\n",
    "    Lrt = np.sum(skills, axis=S)\n",
    "    lam_rt = (skills/Lrt)\n",
    "    \n",
    "    # find a fixed point wage, given location\n",
    "    wages = loopy(wages, log=False)\n",
    "    \n",
    "    # find the new locations, given the wage\n",
    "    newSkills = computeMobility(wages)\n",
    "    \n",
    "    loss = np.sum(np.abs(newSkills - skills))\n",
    "    losses.append(loss)\n",
    "    \n",
    "    skills = lr * newSkills + (1-lr)*skills\n",
    "    \n",
    "    if loss < 1e-6:\n",
    "        break\n",
    "    \n",
    "    if i % 10 == 0:\n",
    "        print('L---- #{}: {}'.format(i, loss))\n",
    "        \n",
    "plt.plot(losses)"
   ]
  },
  {
   "cell_type": "code",
   "execution_count": 32,
   "metadata": {},
   "outputs": [
    {
     "data": {
      "text/plain": [
       "Text(0,0.5,'log high-skill')"
      ]
     },
     "execution_count": 32,
     "metadata": {},
     "output_type": "execute_result"
    },
    {
     "data": {
      "image/png": "[encoded data removed]",
      "text/plain": [
       "<matplotlib.figure.Figure at 0x7ff500909a90>"
      ]
     },
     "metadata": {},
     "output_type": "display_data"
    }
   ],
   "source": [
    "draw(skills)\n",
    "plt.xlabel('log low-skill'); plt.ylabel('log high-skill')"
   ]
  },
  {
   "cell_type": "code",
   "execution_count": 33,
   "metadata": {},
   "outputs": [
    {
     "data": {
      "text/plain": [
       "Text(0,0.5,'log Non-Agricultural wages')"
      ]
     },
     "execution_count": 33,
     "metadata": {},
     "output_type": "execute_result"
    },
    {
     "data": {
      "image/png": "[encoded data removed]",
      "text/plain": [
       "<matplotlib.figure.Figure at 0x7ff500482be0>"
      ]
     },
     "metadata": {},
     "output_type": "display_data"
    }
   ],
   "source": [
    "draw(newWages)\n",
    "\n",
    "plt.xlabel('log Agricultural wages'); plt.ylabel('log Non-Agricultural wages')"
   ]
  },
  {
   "cell_type": "code",
   "execution_count": 34,
   "metadata": {},
   "outputs": [
    {
     "name": "stdout",
     "output_type": "stream",
     "text": [
      "Iteration #0: 5.906800931543918e-07\n"
     ]
    }
   ],
   "source": [
    "# we don't any new wages with this location\n",
    "nex = loopy(wages)"
   ]
  },
  {
   "cell_type": "code",
   "execution_count": 35,
   "metadata": {},
   "outputs": [
    {
     "data": {
      "text/plain": [
       "1.437998733305172e-07"
      ]
     },
     "execution_count": 35,
     "metadata": {},
     "output_type": "execute_result"
    }
   ],
   "source": [
    "# and we don't get any new locations either\n",
    "locs = computeMobility(nex)\n",
    "\n",
    "# the new locations and the one we get are the same\n",
    "np.sum(np.abs(locs - skills))"
   ]
  },
  {
   "cell_type": "markdown",
   "metadata": {},
   "source": [
    "They definitely converged... \n",
    "\n",
    "## Are these the 1910 wages and locations?"
   ]
  },
  {
   "cell_type": "code",
   "execution_count": 37,
   "metadata": {},
   "outputs": [
    {
     "data": {
      "text/plain": [
       "0.0023080306411991896"
      ]
     },
     "execution_count": 37,
     "metadata": {},
     "output_type": "execute_result"
    }
   ],
   "source": [
    "Lrt = np.sum(skills, axis=S)\n",
    "Theta_h,Theta_l, Theta = computeTheta(wages)\n",
    "\n",
    "GDP = computeGDP(Lrt,Theta_h, Theta_l)\n",
    "capital = param.alpha * GDP\n",
    "capital"
   ]
  },
  {
   "cell_type": "code",
   "execution_count": 38,
   "metadata": {},
   "outputs": [
    {
     "data": {
      "text/plain": [
       "array([0.020693, 0.037483, 0.067895, 0.12298 , 0.22277 ])"
      ]
     },
     "execution_count": 38,
     "metadata": {},
     "output_type": "execute_result"
    }
   ],
   "source": [
    "Capital"
   ]
  },
  {
   "cell_type": "markdown",
   "metadata": {},
   "source": [
    "## How about we compute the aggregate decline in agricultural employment?"
   ]
  },
  {
   "cell_type": "code",
   "execution_count": null,
   "metadata": {},
   "outputs": [],
   "source": [
    "sAt = Psi[L, A] * "
   ]
  }
 ],
 "metadata": {
  "kernelspec": {
   "display_name": "Python 3",
   "language": "python",
   "name": "python3"
  },
  "language_info": {
   "codemirror_mode": {
    "name": "ipython",
    "version": 3
   },
   "file_extension": ".py",
   "mimetype": "text/x-python",
   "name": "python",
   "nbconvert_exporter": "python",
   "pygments_lexer": "ipython3",
   "version": "3.6.4"
  }
 },
 "nbformat": 4,
 "nbformat_minor": 2
}
