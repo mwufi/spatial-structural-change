{
 "cells": [
  {
   "cell_type": "code",
   "execution_count": 1,
   "metadata": {},
   "outputs": [],
   "source": [
    "import numpy as np\n",
    "import matplotlib.pyplot as plt\n",
    "%matplotlib inline\n",
    "\n",
    "import os\n",
    "import pandas as pd\n",
    "\n",
    "from scipy.special import gamma\n",
    "from scipy.stats import invweibull as frechet\n",
    "def myGamma(zeta):\n",
    "    return gamma(1-1/zeta)\n",
    "\n",
    "DIR = r\"/home/cz/Dropbox/Summer RA Model EP/Parameters/\"\n",
    "\n",
    "\n",
    "class Params(object):\n",
    "    pass\n",
    "\n",
    "def read(name):\n",
    "    myfile = os.path.join(DIR, 'ep_{}.csv'.format(name))\n",
    "    df=pd.read_csv(myfile, header=None)\n",
    "    return df\n",
    "\n",
    "def pv(name, mat):\n",
    "    print(\"{}: {}\".format(name.rjust(10), mat.shape))\n",
    "    \n",
    "def read_matrix(name, verbose=True):\n",
    "    df = read(name)\n",
    "    mat = df.values\n",
    "    if verbose:\n",
    "        pv(name, mat)\n",
    "    return mat\n",
    "\n",
    "def read_params():\n",
    "    param = Params()\n",
    "    with open(os.path.join(DIR, 'ep_params.csv')) as f:\n",
    "        lines = f.readlines()\n",
    "        values = lines[0].split(',')\n",
    "        names = lines[2].replace('[','').replace(']','').strip().split(' ')\n",
    "\n",
    "        if len(values) != len(names):\n",
    "            print('not sure how to read this...')\n",
    "            print(lines)\n",
    "\n",
    "        print('Found {} parameters'.format(len(values)))    \n",
    "        for k,v in zip(names, values):\n",
    "            print('{} = {}'.format(k,v))\n",
    "            setattr(param, k.split('.')[1], float(v))\n",
    "    \n",
    "    return param"
   ]
  },
  {
   "cell_type": "code",
   "execution_count": 2,
   "metadata": {},
   "outputs": [
    {
     "name": "stdout",
     "output_type": "stream",
     "text": [
      "Found 13 parameters\n",
      "param.beta = 0.28818\n",
      "param.q = 0.67565\n",
      "param.mu = 3.4112\n",
      "param.zeta = 1.62\n",
      "param.alpha = 0.05\n",
      "param.sigma = 4\n",
      "param.psi = 0.76551\n",
      "param.delta = 0.91803\n",
      "param.eta = 0.35\n",
      "param.gamma = 0.35055\n",
      "param.nu = 0.0187\n",
      "param.kappa = 0.42\n",
      "param.r = 2.8866\n",
      "\n"
     ]
    }
   ],
   "source": [
    "param = read_params()"
   ]
  },
  {
   "cell_type": "code",
   "execution_count": 3,
   "metadata": {},
   "outputs": [
    {
     "data": {
      "text/plain": [
       "2.3211529336709016"
      ]
     },
     "execution_count": 3,
     "metadata": {},
     "output_type": "execute_result"
    }
   ],
   "source": [
    "myGamma(param.zeta)"
   ]
  },
  {
   "cell_type": "code",
   "execution_count": 4,
   "metadata": {},
   "outputs": [
    {
     "name": "stdout",
     "output_type": "stream",
     "text": [
      " skill1880: (645, 2)\n",
      "  wage1880: (645, 2)\n",
      "       Q_A: (645, 5)\n",
      "      Q_NA: (645, 5)\n",
      "         Z: (5, 2)\n",
      "        vA: (5, 1)\n",
      "   Capital: (5, 1)\n",
      "       phi: (4, 1)\n",
      "       tau: (645, 645)\n",
      " amenities: (645, 5)\n"
     ]
    }
   ],
   "source": [
    "skills, wages = read_matrix(\"skill1880\"), read_matrix(\"wage1880\")\n",
    "Q_A, Q_NA = read_matrix(\"Q_A\"), read_matrix(\"Q_NA\")\n",
    "\n",
    "Z = read_matrix(\"Z\")\n",
    "vA = read_matrix(\"vA\")\n",
    "Capital = read_matrix(\"Capital\")\n",
    "phi = read_matrix(\"phi\")\n",
    "\n",
    "tau = read_matrix(\"tau\")\n",
    "amenities = read_matrix(\"amenities\")"
   ]
  },
  {
   "cell_type": "markdown",
   "metadata": {},
   "source": [
    "## Mess with the variables a bit"
   ]
  },
  {
   "cell_type": "code",
   "execution_count": 5,
   "metadata": {},
   "outputs": [
    {
     "name": "stdout",
     "output_type": "stream",
     "text": [
      "    skills: (1, 2, 645)\n",
      "     wages: (1, 2, 645)\n",
      "         Q: (5, 2, 645)\n",
      "       vAt: (2, 1)\n",
      "   Capital: (5,)\n",
      "       tau: (645, 645)\n",
      " amenities: (5, 645)\n"
     ]
    }
   ],
   "source": [
    "# expand the axes\n",
    "skills = np.expand_dims(skills, 2).transpose((2,1,0))\n",
    "pv(\"skills\", skills)\n",
    "\n",
    "wages = np.expand_dims(wages, 2).transpose((2,1,0))\n",
    "pv(\"wages\", wages)\n",
    "\n",
    "Q = np.stack((Q_A, Q_NA), axis=1).transpose((2,1,0))\n",
    "pv(\"Q\", Q)\n",
    "\n",
    "vA = vA.flatten()\n",
    "vAt= np.array([vA[1], 1-vA[1]]).reshape(2,1)\n",
    "pv(\"vAt\", vAt)\n",
    "\n",
    "Capital = Capital.flatten()\n",
    "pv(\"Capital\", Capital)\n",
    "\n",
    "pv(\"tau\", tau)\n",
    "\n",
    "amenities = amenities.transpose((1,0))\n",
    "pv(\"amenities\", amenities)"
   ]
  },
  {
   "cell_type": "code",
   "execution_count": 6,
   "metadata": {},
   "outputs": [],
   "source": [
    "# define some constants for indexing\n",
    "A, NA = 0,1\n",
    "L, H = 0,1\n",
    "R,S,T = 2,1,0\n",
    "\n",
    "Psi = np.array([[1,1],\n",
    "                [1,1.6]])"
   ]
  },
  {
   "cell_type": "code",
   "execution_count": 7,
   "metadata": {},
   "outputs": [
    {
     "name": "stdout",
     "output_type": "stream",
     "text": [
      "(1, 2) (1, 645) (1, 2, 645)\n",
      "the first index is L-skill [[0.7046579  0.29534209]]\n"
     ]
    }
   ],
   "source": [
    "overall_lamda = np.sum(skills, axis=R) # this is \\lambda overall\n",
    "Lrt = np.sum(skills, axis=S)\n",
    "lam_rt = (skills/Lrt)\n",
    "\n",
    "print(overall_lamda.shape, Lrt.shape, lam_rt.shape)\n",
    "\n",
    "# now we can do things like this:\n",
    "print('the first index is L-skill', np.sum(Lrt * lam_rt, axis=R))"
   ]
  },
  {
   "cell_type": "markdown",
   "metadata": {},
   "source": [
    "# Define methods"
   ]
  },
  {
   "cell_type": "markdown",
   "metadata": {},
   "source": [
    "Old:\n",
    "```\n",
    "regionalRevenue = (1-param.alpha) * pi[A] * vA[1] * GDP\n",
    "regionalEarnings = Lrt * myGamma(param.zeta) * (lam_rt[t,L] * Psi[L,A] + lam_rt[t,H] * Psi[H,A])\n",
    "\n",
    "newWages = regionalRevenue / regionalEarnings\n",
    "\n",
    "regionalRevenue_NA = (1-param.alpha) * pi[NA] * (1 - vA[1]) * GDP\n",
    "regionalEarnings_NA = Lrt * myGamma(param.zeta) * (lam_rt[t,L] * Psi[L,NA] + lam_rt[t,H] * Psi[H,NA])\n",
    "\n",
    "newWages_NA = regionalRevenue_NA / regionalEarnings_NA\n",
    "```\n",
    "\n",
    "New:\n",
    "```\n",
    "regionalRevenue = (1-param.alpha) * pi * vAt *  GDP\n",
    "x = Lrt * myGamma(param.zeta) * np.matmul(lam_rt.transpose((2,0,1)), Psi).transpose((1,2,0))\n",
    "\n",
    "newWages = regionalRevenue/x\n",
    "```\n",
    "\n",
    "Is it faster? I don't know if it's easier to read..."
   ]
  },
  {
   "cell_type": "code",
   "execution_count": 8,
   "metadata": {},
   "outputs": [],
   "source": [
    "t = 0\n",
    "\n",
    "# useful for resets\n",
    "def readWages(verbose=False):\n",
    "    wages = read_matrix(\"wage1880\", verbose)\n",
    "    wages = np.expand_dims(wages, 2).transpose((2,1,0))\n",
    "    return wages\n",
    "\n",
    "def computePi(wages):\n",
    "    pi = Q[t]**(param.sigma-1) * wages**((1-param.alpha)*(1-param.sigma))\n",
    "    \n",
    "    normalize = np.sum(pi, axis=R)\n",
    "    normalize = np.expand_dims(normalize, 2)\n",
    "    pi = pi / (normalize**(1/(1-param.sigma)))\n",
    "    return pi\n",
    "\n",
    "def computeTheta(wages):\n",
    "    Theta = np.matmul(Psi, wages**(param.zeta)) ** (1/param.zeta)\n",
    "    Theta_l = Theta[0,L]\n",
    "    Theta_h = Theta[0,H]\n",
    "    return Theta_h, Theta_l, Theta\n",
    "\n",
    "def computeGDP(lam_rt, Theta_h, Theta_l):\n",
    "    constant= 1/(1-param.alpha) * myGamma(param.zeta)\n",
    "    GDP = constant * np.sum(Lrt * (lam_rt * Theta_h + (1-lam_rt) * Theta_l))\n",
    "    return GDP\n",
    "    "
   ]
  },
  {
   "cell_type": "code",
   "execution_count": 16,
   "metadata": {},
   "outputs": [],
   "source": [
    "wages = readWages()\n",
    "\n",
    "def loopy(wages, log=True):\n",
    "    lr = 0.1\n",
    "    loss = 10\n",
    "\n",
    "    for i in range(1000):\n",
    "\n",
    "        pi = computePi(wages)\n",
    "        Theta_h, Theta_l, Theta = computeTheta(wages)\n",
    "        GDP = computeGDP(lam_rt, Theta_h, Theta_l)\n",
    "\n",
    "        regionalRevenue = (1-param.alpha) * pi * vAt *  GDP\n",
    "        x = Lrt * myGamma(param.zeta) * np.matmul(lam_rt.transpose((2,0,1)), Psi).transpose((1,2,0))\n",
    "\n",
    "        newWages = regionalRevenue/x\n",
    "        loss = np.sum(np.abs(newWages - wages))\n",
    "\n",
    "        # update\n",
    "        wages = lr * newWages + (1-lr) * wages\n",
    "        \n",
    "        if loss < 1e-6:\n",
    "            if log:\n",
    "                print('Iteration #{}: {}'.format(i, loss))\n",
    "            break\n",
    "            \n",
    "        if i % 20 == 0 and log:\n",
    "            print('Iteration #{}: {}'.format(i, loss))\n",
    "            \n",
    "    return wages\n"
   ]
  },
  {
   "cell_type": "code",
   "execution_count": 23,
   "metadata": {},
   "outputs": [
    {
     "name": "stdout",
     "output_type": "stream",
     "text": [
      "Iteration #0: 1143.089983294212\n",
      "Iteration #20: 20.01271291297597\n",
      "Iteration #40: 4.093878108314487\n",
      "Iteration #60: 0.005301694498840544\n",
      "Iteration #80: 7.513121086126609e-06\n",
      "Iteration #90: 8.623702869879071e-07\n"
     ]
    },
    {
     "data": {
      "text/plain": [
       "Text(0,0.5,'Non-Agricultural wages')"
      ]
     },
     "execution_count": 23,
     "metadata": {},
     "output_type": "execute_result"
    },
    {
     "data": {
      "image/png": "[encoded data removed]",
      "text/plain": [
       "<matplotlib.figure.Figure at 0x7f92171f4c50>"
      ]
     },
     "metadata": {},
     "output_type": "display_data"
    }
   ],
   "source": [
    "# wages = readWages()\n",
    "\n",
    "def draw(wages):\n",
    "    plot_params = {\n",
    "        'alpha': 0.4,\n",
    "        's': 4\n",
    "    }\n",
    "    \n",
    "    plt.scatter(wages[t,A], wages[t,NA],\n",
    "           **plot_params)\n",
    "    \n",
    "    \n",
    "plt.figure(figsize=(12,6))\n",
    "\n",
    "# before\n",
    "draw(wages)\n",
    "draw(wages)\n",
    "\n",
    "newWages = loopy(wages)\n",
    "\n",
    "# after\n",
    "draw(newWages)\n",
    "plt.legend(['before', 'after'])\n",
    "plt.xlabel('Agricultural wages'); plt.ylabel('Non-Agricultural wages')"
   ]
  },
  {
   "cell_type": "code",
   "execution_count": 11,
   "metadata": {},
   "outputs": [
    {
     "name": "stdout",
     "output_type": "stream",
     "text": [
      "2.8866 0.7655096595807223 0.7005475951092922 1.1896852061132865\n"
     ]
    }
   ],
   "source": [
    "\n",
    "def psi(r):\n",
    "    n = param.eta\n",
    "    ret = 1 + (param.beta**(1/(1-n))) * ((1+r)**(n/(1-n)))\n",
    "    return 1/ret\n",
    "\n",
    "interest_rate = param.r\n",
    "consumption_share = psi(interest_rate)\n",
    "\n",
    "aa = myGamma(param.eta/param.zeta)/param.eta\n",
    "bb = consumption_share**(param.eta-1)\n",
    "\n",
    "print(interest_rate, consumption_share, aa,bb)"
   ]
  },
  {
   "cell_type": "code",
   "execution_count": 13,
   "metadata": {},
   "outputs": [
    {
     "data": {
      "text/plain": [
       "array([[0.7046579 , 0.29534209]])"
      ]
     },
     "execution_count": 13,
     "metadata": {},
     "output_type": "execute_result"
    }
   ],
   "source": [
    "_,_,Theta = computeTheta(wages)\n",
    "\n",
    "def computeMobility(Theta):\n",
    "    n = param.eta\n",
    "    \n",
    "    # since the interest rate is a constant, we can take psi(r_{t+1}) to be a constant too\n",
    "    W_rt = aa*bb * (myGamma(param.zeta)*Theta)**n + amenities[1] # amenities in 1910\n",
    "\n",
    "    # tau is indexed like j x r\n",
    "    stuff = np.expand_dims(W_rt, 2) - tau\n",
    "\n",
    "    sums = np.sum(np.exp(1/param.kappa * stuff), axis=3) # across the R's, not the j's\n",
    "    sums = np.expand_dims(sums, 3)\n",
    "\n",
    "    movingProbs = np.exp(1/param.kappa * stuff)/sums \n",
    "    oldL = np.expand_dims((Lrt*lam_rt), axis=3)\n",
    "    new = np.sum(movingProbs * oldL, axis=2)\n",
    "    \n",
    "    return new\n",
    "\n",
    "newSkills = computeMobility(Theta)\n",
    "np.sum(newSkills, axis=R) # note that the overall lambda stays the same... since we didn't change that part"
   ]
  },
  {
   "cell_type": "code",
   "execution_count": 26,
   "metadata": {},
   "outputs": [
    {
     "name": "stdout",
     "output_type": "stream",
     "text": [
      "L---- #0: 0.003568187050582554\n",
      "L---- #10: 0.0033148867654213244\n",
      "L---- #20: 0.0030820812448156603\n",
      "L---- #30: 0.0028677221444787285\n",
      "L---- #40: 0.0026700215037038155\n",
      "L---- #50: 0.002487412681719355\n",
      "L---- #60: 0.0023185410653297376\n",
      "L---- #70: 0.002162175279247836\n",
      "L---- #80: 0.0020172197854341697\n",
      "L---- #90: 0.0018827134332226807\n",
      "L---- #100: 0.0017602855928589849\n",
      "L---- #110: 0.001647146642547479\n",
      "L---- #120: 0.0015416411794948546\n",
      "L---- #130: 0.001443693522920514\n",
      "L---- #140: 0.0013528229969349123\n",
      "L---- #150: 0.0012678819611779539\n",
      "L---- #160: 0.0011884512393365277\n",
      "L---- #170: 0.001114145908150593\n",
      "L---- #180: 0.001044612312381254\n",
      "L---- #190: 0.000979524517034263\n",
      "L---- #200: 0.0009185815455891252\n",
      "L---- #210: 0.0008615073434150961\n",
      "L---- #220: 0.0008080427657527634\n",
      "L---- #230: 0.0007579486629088645\n",
      "L---- #240: 0.0007110045650389147\n",
      "L---- #250: 0.0006670029141868281\n",
      "L---- #260: 0.0006257527100888903\n",
      "L---- #270: 0.0005870790587905832\n",
      "L---- #280: 0.0005508213435673479\n",
      "L---- #290: 0.0005168167520997274\n",
      "L---- #300: 0.00048492234177896363\n",
      "L---- #310: 0.00045500447922007514\n",
      "L---- #320: 0.00042694103160296196\n",
      "L---- #330: 0.00040062055388509347\n",
      "L---- #340: 0.00037592386351400283\n",
      "L---- #350: 0.0003527493411966577\n",
      "L---- #360: 0.00033100204017949726\n",
      "L---- #370: 0.00031059319821739656\n",
      "L---- #380: 0.0002914409813410498\n",
      "L---- #390: 0.00027346983065650477\n",
      "L---- #400: 0.000256607823784371\n",
      "L---- #410: 0.0002407864302058807\n",
      "L---- #420: 0.0002259377974053045\n",
      "L---- #430: 0.000212000727136043\n",
      "L---- #440: 0.00019892091486905258\n",
      "L---- #450: 0.00018665762212564648\n",
      "L---- #460: 0.00017514898354717954\n",
      "L---- #470: 0.00016435428525867738\n",
      "L---- #480: 0.00015422885916931446\n",
      "L---- #490: 0.00014472719775958522\n",
      "L---- #500: 0.00013581453930361262\n",
      "L---- #510: 0.00012745411339613985\n",
      "L---- #520: 0.00011970027600533969\n",
      "L---- #530: 0.00011246896399560817\n",
      "L---- #540: 0.00010567926233915579\n",
      "L---- #550: 9.934188130393186e-05\n",
      "L---- #560: 9.34958086300599e-05\n",
      "L---- #570: 8.800522575131294e-05\n",
      "L---- #580: 8.284411673049858e-05\n",
      "L---- #590: 7.799137987884948e-05\n",
      "L---- #600: 7.342995644317232e-05\n",
      "L---- #610: 6.914353418771828e-05\n",
      "L---- #620: 6.511272826669907e-05\n",
      "L---- #630: 6.17089771916816e-05\n",
      "L---- #640: 5.870343924529928e-05\n",
      "L---- #650: 5.5856138350220205e-05\n",
      "L---- #660: 5.315827820216932e-05\n",
      "L---- #670: 5.0601309121312e-05\n",
      "L---- #680: 4.8177815472607026e-05\n",
      "L---- #690: 4.588164769826089e-05\n",
      "L---- #700: 4.370535230175215e-05\n",
      "L---- #710: 4.164131780179564e-05\n",
      "L---- #720: 3.9685339750036166e-05\n",
      "L---- #730: 3.783452783786939e-05\n",
      "L---- #740: 3.609328042276534e-05\n",
      "L---- #750: 3.44400654016695e-05\n",
      "L---- #760: 3.286987761698963e-05\n",
      "L---- #770: 3.13929662377436e-05\n",
      "L---- #780: 2.9996706597110733e-05\n",
      "L---- #790: 2.8668935182268658e-05\n",
      "L---- #800: 2.740617263583127e-05\n",
      "L---- #810: 2.6205417589379753e-05\n",
      "L---- #820: 2.5062804356755743e-05\n",
      "L---- #830: 2.3975289810378685e-05\n",
      "L---- #840: 2.3003673960554936e-05\n",
      "L---- #850: 2.209656133425468e-05\n",
      "L---- #860: 2.122948890621784e-05\n",
      "L---- #870: 2.0400221320849025e-05\n",
      "L---- #880: 1.9606924982375794e-05\n",
      "L---- #890: 1.8847862997490897e-05\n",
      "L---- #900: 1.8121389821907452e-05\n",
      "L---- #910: 1.7425946207271488e-05\n",
      "L---- #920: 1.6760054433601783e-05\n",
      "L---- #930: 1.6122313806614644e-05\n",
      "L---- #940: 1.551139641056611e-05\n",
      "L---- #950: 1.4926043099378097e-05\n",
      "L---- #960: 1.4365078799517159e-05\n",
      "L---- #970: 1.3827354826107108e-05\n",
      "L---- #980: 1.3311791142812925e-05\n",
      "L---- #990: 1.2817391764012154e-05\n",
      "L---- #1000: 1.2343213742161167e-05\n",
      "L---- #1010: 1.188830036336682e-05\n",
      "L---- #1020: 1.145179209626107e-05\n",
      "L---- #1030: 1.1032829224644806e-05\n",
      "L---- #1040: 1.063063631669003e-05\n",
      "L---- #1050: 1.0247843605285036e-05\n",
      "L---- #1060: 9.880716545475319e-06\n",
      "L---- #1070: 9.52784512731572e-06\n",
      "L---- #1080: 9.18861432919843e-06\n",
      "L---- #1090: 8.862438824624881e-06\n",
      "L---- #1100: 8.548761401106693e-06\n",
      "L---- #1110: 8.247051471926904e-06\n",
      "L---- #1120: 7.956803670294518e-06\n",
      "L---- #1130: 7.677564846091362e-06\n",
      "L---- #1140: 7.411631949658948e-06\n",
      "L---- #1150: 7.157858801407107e-06\n",
      "L---- #1160: 6.913300236642205e-06\n",
      "L---- #1170: 6.67759063775661e-06\n",
      "L---- #1180: 6.450381165183759e-06\n",
      "L---- #1190: 6.231339738305358e-06\n",
      "L---- #1200: 6.02014651012204e-06\n",
      "L---- #1210: 5.816494105451485e-06\n",
      "L---- #1220: 5.6200904283697834e-06\n",
      "L---- #1230: 5.430656072605928e-06\n",
      "L---- #1240: 5.24792362328074e-06\n",
      "L---- #1250: 5.07163707735507e-06\n",
      "L---- #1260: 4.901551293850897e-06\n",
      "L---- #1270: 4.73743689663519e-06\n",
      "L---- #1280: 4.5791086877875846e-06\n",
      "L---- #1290: 4.42630794112882e-06\n",
      "L---- #1300: 4.278821805794167e-06\n",
      "L---- #1310: 4.13645140788582e-06\n",
      "L---- #1320: 3.999007143607083e-06\n",
      "L---- #1330: 3.866308948748527e-06\n",
      "L---- #1340: 3.7381822486052864e-06\n",
      "L---- #1350: 3.6144581167645696e-06\n",
      "L---- #1360: 3.494977014047989e-06\n",
      "L---- #1370: 3.3795828857794887e-06\n",
      "L---- #1380: 3.2681276282060653e-06\n",
      "L---- #1390: 3.1604689926972773e-06\n",
      "L---- #1400: 3.0564703273889147e-06\n",
      "L---- #1410: 2.9560018010536174e-06\n",
      "L---- #1420: 2.8589374497025466e-06\n",
      "L---- #1430: 2.7651562163188548e-06\n",
      "L---- #1440: 2.6745390498774288e-06\n",
      "L---- #1450: 2.586973866011567e-06\n",
      "L---- #1460: 2.502353392435561e-06\n",
      "L---- #1470: 2.4205756727435806e-06\n",
      "L---- #1480: 2.3415386856033204e-06\n",
      "L---- #1490: 2.2651465706041546e-06\n",
      "L---- #1500: 2.1913083290929196e-06\n",
      "L---- #1510: 2.119933798571615e-06\n",
      "L---- #1520: 2.050936811855227e-06\n",
      "L---- #1530: 1.9842360335604975e-06\n",
      "L---- #1540: 1.919751828619227e-06\n",
      "L---- #1550: 1.8574074590283954e-06\n",
      "L---- #1560: 1.7971286269001345e-06\n",
      "L---- #1570: 1.7388441417358333e-06\n",
      "L---- #1580: 1.6824856830986432e-06\n",
      "L---- #1590: 1.6279874783843452e-06\n",
      "L---- #1600: 1.5752860120571252e-06\n",
      "L---- #1610: 1.5243201262881656e-06\n",
      "L---- #1620: 1.4750308637300387e-06\n",
      "L---- #1630: 1.4273618641358747e-06\n",
      "L---- #1640: 1.381258196098439e-06\n",
      "L---- #1650: 1.3366665221581971e-06\n",
      "L---- #1660: 1.2935358592671857e-06\n",
      "L---- #1670: 1.251817034091935e-06\n",
      "L---- #1680: 1.2114626360251066e-06\n",
      "L---- #1690: 1.1724269544980994e-06\n",
      "L---- #1700: 1.1346657138694894e-06\n",
      "L---- #1710: 1.0981362875150423e-06\n",
      "L---- #1720: 1.0627975719332914e-06\n",
      "L---- #1730: 1.0286098429232199e-06\n"
     ]
    },
    {
     "data": {
      "text/plain": [
       "[<matplotlib.lines.Line2D at 0x7f92171146a0>]"
      ]
     },
     "execution_count": 26,
     "metadata": {},
     "output_type": "execute_result"
    },
    {
     "data": {
      "image/png": "[encoded data removed]",
      "text/plain": [
       "<matplotlib.figure.Figure at 0x7f921715c3c8>"
      ]
     },
     "metadata": {},
     "output_type": "display_data"
    }
   ],
   "source": [
    "lr = 0.9\n",
    "losses = []\n",
    "\n",
    "for i in range(1800):\n",
    "    overall_lamda = np.sum(skills, axis=R) # this is \\lambda overall\n",
    "    Lrt = np.sum(skills, axis=S)\n",
    "    lam_rt = (skills/Lrt)\n",
    "    \n",
    "    newWages = loopy(wages, log=False)\n",
    "    \n",
    "    _,_,Theta = computeTheta(newWages)\n",
    "    newSkills = computeMobility(Theta)\n",
    "    \n",
    "    loss = np.sum(np.abs(newSkills - skills))\n",
    "    losses.append(loss)\n",
    "    \n",
    "    skills = lr * newSkills + (1-lr)*skills\n",
    "    \n",
    "    if loss < 1e-6:\n",
    "        break\n",
    "    \n",
    "    if i % 10 == 0:\n",
    "        print('L---- #{}: {}'.format(i, loss))\n",
    "        \n",
    "plt.plot(losses)"
   ]
  },
  {
   "cell_type": "code",
   "execution_count": 27,
   "metadata": {},
   "outputs": [
    {
     "data": {
      "text/plain": [
       "array([[[2.48824980e-05, 1.35013462e-05, 5.95733071e-06, ...,\n",
       "         1.81671952e-03, 4.88589600e-04, 2.25938104e-01],\n",
       "        [1.01063203e-05, 5.48578997e-06, 2.43380641e-06, ...,\n",
       "         7.35516274e-04, 2.05915017e-04, 9.20391989e-02]]])"
      ]
     },
     "execution_count": 27,
     "metadata": {},
     "output_type": "execute_result"
    }
   ],
   "source": [
    "skills"
   ]
  },
  {
   "cell_type": "code",
   "execution_count": 29,
   "metadata": {},
   "outputs": [
    {
     "data": {
      "text/plain": [
       "array([[[0.016046 , 0.017023 , 0.019343 , ..., 0.036643 , 0.05426  ,\n",
       "         0.045125 ],\n",
       "        [0.0062831, 0.0062363, 0.0051003, ..., 0.028074 , 0.043544 ,\n",
       "         0.023381 ]]])"
      ]
     },
     "execution_count": 29,
     "metadata": {},
     "output_type": "execute_result"
    }
   ],
   "source": [
    "wages"
   ]
  },
  {
   "cell_type": "code",
   "execution_count": null,
   "metadata": {},
   "outputs": [],
   "source": []
  }
 ],
 "metadata": {
  "kernelspec": {
   "display_name": "Python 3",
   "language": "python",
   "name": "python3"
  },
  "language_info": {
   "codemirror_mode": {
    "name": "ipython",
    "version": 3
   },
   "file_extension": ".py",
   "mimetype": "text/x-python",
   "name": "python",
   "nbconvert_exporter": "python",
   "pygments_lexer": "ipython3",
   "version": "3.6.4"
  }
 },
 "nbformat": 4,
 "nbformat_minor": 2
}
