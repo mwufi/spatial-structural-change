{
 "cells": [
  {
   "cell_type": "code",
   "execution_count": 1,
   "metadata": {},
   "outputs": [],
   "source": [
    "import numpy as np\n",
    "import matplotlib.pyplot as plt\n",
    "%matplotlib inline\n",
    "\n",
    "import os\n",
    "import pandas as pd\n",
    "\n",
    "from scipy.special import gamma\n",
    "from scipy.stats import invweibull as frechet\n",
    "def myGamma(zeta):\n",
    "    return gamma(1-1/zeta)\n",
    "\n",
    "DIR = r\"/home/cz/Dropbox/Summer RA Model EP/Parameters/\"\n",
    "\n",
    "\n",
    "class Params(object):\n",
    "    pass\n",
    "\n",
    "def read(name):\n",
    "    myfile = os.path.join(DIR, 'ep_{}.csv'.format(name))\n",
    "    df=pd.read_csv(myfile, header=None)\n",
    "    return df\n",
    "\n",
    "def pv(name, mat):\n",
    "    print(\"{}: {}\".format(name.rjust(10), mat.shape))\n",
    "    \n",
    "def read_matrix(name, verbose=True):\n",
    "    df = read(name)\n",
    "    mat = df.values\n",
    "    if verbose:\n",
    "        pv(name, mat)\n",
    "    return mat\n",
    "\n",
    "def read_params():\n",
    "    param = Params()\n",
    "    with open(os.path.join(DIR, 'ep_params.csv')) as f:\n",
    "        lines = f.readlines()\n",
    "        values = lines[0].split(',')\n",
    "        names = lines[2].replace('[','').replace(']','').strip().split(' ')\n",
    "\n",
    "        if len(values) != len(names):\n",
    "            print('not sure how to read this...')\n",
    "            print(lines)\n",
    "\n",
    "        print('Found {} parameters'.format(len(values)))    \n",
    "        for k,v in zip(names, values):\n",
    "            print('{} = {}'.format(k,v))\n",
    "            setattr(param, k.split('.')[1], float(v))\n",
    "    \n",
    "    return param"
   ]
  },
  {
   "cell_type": "code",
   "execution_count": 2,
   "metadata": {},
   "outputs": [
    {
     "name": "stdout",
     "output_type": "stream",
     "text": [
      "Found 13 parameters\n",
      "param.beta = 0.28818\n",
      "param.q = 0.67565\n",
      "param.mu = 3.4112\n",
      "param.zeta = 1.62\n",
      "param.alpha = 0.05\n",
      "param.sigma = 4\n",
      "param.psi = 0.76551\n",
      "param.delta = 0.91803\n",
      "param.eta = 0.35\n",
      "param.gamma = 0.35055\n",
      "param.nu = 0.0187\n",
      "param.kappa = 0.42\n",
      "param.r = 2.8866\n",
      "\n"
     ]
    }
   ],
   "source": [
    "param = read_params()"
   ]
  },
  {
   "cell_type": "code",
   "execution_count": 3,
   "metadata": {},
   "outputs": [
    {
     "data": {
      "text/plain": [
       "2.3211529336709016"
      ]
     },
     "execution_count": 3,
     "metadata": {},
     "output_type": "execute_result"
    }
   ],
   "source": [
    "myGamma(param.zeta)"
   ]
  },
  {
   "cell_type": "code",
   "execution_count": 4,
   "metadata": {},
   "outputs": [
    {
     "name": "stdout",
     "output_type": "stream",
     "text": [
      " skill1880: (645, 2)\n",
      "  wage1880: (645, 2)\n",
      "       Q_A: (645, 5)\n",
      "      Q_NA: (645, 5)\n",
      "         Z: (5, 2)\n",
      "        vA: (5, 1)\n",
      "   Capital: (5, 1)\n",
      "       phi: (4, 1)\n",
      "       tau: (645, 645)\n",
      " amenities: (645, 5)\n"
     ]
    }
   ],
   "source": [
    "skills, wages = read_matrix(\"skill1880\"), read_matrix(\"wage1880\")\n",
    "Q_A, Q_NA = read_matrix(\"Q_A\"), read_matrix(\"Q_NA\")\n",
    "\n",
    "Z = read_matrix(\"Z\")\n",
    "vA = read_matrix(\"vA\")\n",
    "Capital = read_matrix(\"Capital\")\n",
    "phi = read_matrix(\"phi\")\n",
    "\n",
    "tau = read_matrix(\"tau\")\n",
    "amenities = read_matrix(\"amenities\")"
   ]
  },
  {
   "cell_type": "markdown",
   "metadata": {},
   "source": [
    "## Mess with the variables a bit"
   ]
  },
  {
   "cell_type": "code",
   "execution_count": 5,
   "metadata": {},
   "outputs": [
    {
     "name": "stdout",
     "output_type": "stream",
     "text": [
      "    skills: (1, 2, 645)\n",
      "     wages: (1, 2, 645)\n",
      "         Q: (5, 2, 645)\n",
      "       vAt: (2, 1)\n",
      "   Capital: (5,)\n",
      "       tau: (645, 645)\n",
      " amenities: (5, 645)\n"
     ]
    }
   ],
   "source": [
    "# expand the axes\n",
    "skills = np.expand_dims(skills, 2).transpose((2,1,0))\n",
    "pv(\"skills\", skills)\n",
    "\n",
    "wages = np.expand_dims(wages, 2).transpose((2,1,0))\n",
    "pv(\"wages\", wages)\n",
    "\n",
    "Q = np.stack((Q_A, Q_NA), axis=1).transpose((2,1,0))\n",
    "pv(\"Q\", Q)\n",
    "\n",
    "vA = vA.flatten()\n",
    "vAt= np.array([vA[1], 1-vA[1]]).reshape(2,1)\n",
    "pv(\"vAt\", vAt)\n",
    "\n",
    "Capital = Capital.flatten()\n",
    "pv(\"Capital\", Capital)\n",
    "\n",
    "pv(\"tau\", tau)\n",
    "\n",
    "amenities = amenities.transpose((1,0))\n",
    "pv(\"amenities\", amenities)"
   ]
  },
  {
   "cell_type": "code",
   "execution_count": 6,
   "metadata": {},
   "outputs": [],
   "source": [
    "# define some constants for indexing\n",
    "t = 0\n",
    "A, NA = 0,1\n",
    "L, H = 0,1\n",
    "R,S,T = 2,1,0\n",
    "\n",
    "Psi = np.array([[1,1],\n",
    "                [1,1.6]])"
   ]
  },
  {
   "cell_type": "code",
   "execution_count": 7,
   "metadata": {},
   "outputs": [
    {
     "name": "stdout",
     "output_type": "stream",
     "text": [
      "(1, 2) (1, 645) (1, 2, 645)\n"
     ]
    },
    {
     "data": {
      "text/plain": [
       "array([[0.7046579 , 0.29534209]])"
      ]
     },
     "execution_count": 7,
     "metadata": {},
     "output_type": "execute_result"
    }
   ],
   "source": [
    "overall_lamda = np.sum(skills, axis=R) # this is \\lambda overall\n",
    "Lrt = np.sum(skills, axis=S)\n",
    "lam_rt = (skills/Lrt)\n",
    "\n",
    "print(overall_lamda.shape, Lrt.shape, lam_rt.shape)\n",
    "\n",
    "# now we can do things like this:\n",
    "np.sum(Lrt * lam_rt, axis=R)"
   ]
  },
  {
   "cell_type": "markdown",
   "metadata": {},
   "source": [
    "The majorit of commuting zones had agricultural employment shares exceeding 75% in 1880..."
   ]
  },
  {
   "cell_type": "code",
   "execution_count": 8,
   "metadata": {},
   "outputs": [
    {
     "data": {
      "image/png": "[encoded data removed]",
      "text/plain": [
       "<matplotlib.figure.Figure at 0x7f3d4c4c4860>"
      ]
     },
     "metadata": {},
     "output_type": "display_data"
    }
   ],
   "source": [
    "plt.hist(lam_rt[t,A], bins=50)\n",
    "plt.show()"
   ]
  },
  {
   "cell_type": "code",
   "execution_count": 9,
   "metadata": {},
   "outputs": [
    {
     "data": {
      "image/png": "[encoded data removed]",
      "text/plain": [
       "<matplotlib.figure.Figure at 0x7f3d16bbe5c0>"
      ]
     },
     "metadata": {},
     "output_type": "display_data"
    }
   ],
   "source": [
    "plt.hist(lam_rt[t,NA], bins=50)\n",
    "plt.show()"
   ]
  },
  {
   "cell_type": "code",
   "execution_count": 10,
   "metadata": {},
   "outputs": [
    {
     "data": {
      "text/plain": [
       "(63, 122)"
      ]
     },
     "execution_count": 10,
     "metadata": {},
     "output_type": "execute_result"
    }
   ],
   "source": [
    "np.sum(lam_rt[t,NA] > .99), np.sum(lam_rt[t,NA] < .01)"
   ]
  },
  {
   "cell_type": "markdown",
   "metadata": {},
   "source": [
    "# Define methods"
   ]
  },
  {
   "cell_type": "markdown",
   "metadata": {},
   "source": [
    "Old:\n",
    "```\n",
    "regionalRevenue = (1-param.alpha) * pi[A] * vA[1] * GDP\n",
    "regionalEarnings = Lrt * myGamma(param.zeta) * (lam_rt[t,L] * Psi[L,A] + lam_rt[t,H] * Psi[H,A])\n",
    "\n",
    "newWages = regionalRevenue / regionalEarnings\n",
    "\n",
    "regionalRevenue_NA = (1-param.alpha) * pi[NA] * (1 - vA[1]) * GDP\n",
    "regionalEarnings_NA = Lrt * myGamma(param.zeta) * (lam_rt[t,L] * Psi[L,NA] + lam_rt[t,H] * Psi[H,NA])\n",
    "\n",
    "newWages_NA = regionalRevenue_NA / regionalEarnings_NA\n",
    "```\n",
    "\n",
    "New:\n",
    "```\n",
    "regionalRevenue = (1-param.alpha) * pi * vAt *  GDP\n",
    "x = Lrt * myGamma(param.zeta) * np.matmul(lam_rt.transpose((2,0,1)), Psi).transpose((1,2,0))\n",
    "\n",
    "newWages = regionalRevenue/x\n",
    "```\n",
    "\n",
    "Is it faster? I don't know if it's easier to read..."
   ]
  },
  {
   "cell_type": "code",
   "execution_count": 11,
   "metadata": {},
   "outputs": [
    {
     "name": "stdout",
     "output_type": "stream",
     "text": [
      "2.8866 0.7655096595807223 0.7005475951092922 1.1896852061132865\n"
     ]
    }
   ],
   "source": [
    "# useful for resets\n",
    "def readWages(verbose=False):\n",
    "    wages = read_matrix(\"wage1880\", verbose)\n",
    "    wages = np.expand_dims(wages, 2).transpose((2,1,0))\n",
    "    return wages\n",
    "\n",
    "def readSkills():\n",
    "    skills = read_matrix(\"skill1880\")\n",
    "    skills = np.expand_dims(skills, 2).transpose((2,1,0))\n",
    "    return skills\n",
    "\n",
    "\n",
    "def psi(r):\n",
    "    n = param.eta\n",
    "    ret = 1 + (param.beta**(1/(1-n))) * ((1+r)**(n/(1-n)))\n",
    "    return 1/ret\n",
    "\n",
    "interest_rate = param.r\n",
    "consumption_share = psi(interest_rate)\n",
    "\n",
    "aa = myGamma(param.eta/param.zeta)/param.eta\n",
    "bb = consumption_share**(param.eta-1)\n",
    "\n",
    "print(interest_rate, consumption_share, aa,bb)\n",
    "\n",
    "\n",
    "def computePi(wages):\n",
    "    pi = Q[t]**(param.sigma-1) * wages**((1-param.alpha)*(1-param.sigma))\n",
    "    # pi has shape (1, 2, 645)\n",
    "    normalize = np.sum(pi, axis=R)\n",
    "    \n",
    "    # normalize has shape (1,2)\n",
    "    normalize = np.expand_dims(normalize, 2)\n",
    "    pi = pi / (normalize ** (1/(1-param.sigma)))\n",
    "    return pi\n",
    "\n",
    "def computeTheta(wages):\n",
    "    Theta = np.matmul(Psi, wages**(param.zeta)) ** (1/param.zeta)\n",
    "    Theta_l = Theta[0,L]\n",
    "    Theta_h = Theta[0,H]\n",
    "    return Theta_h, Theta_l, Theta\n",
    "\n",
    "def computeGDP(lam_rt, Theta_h, Theta_l):\n",
    "    constant= 1/(1-param.alpha) * myGamma(param.zeta)\n",
    "    GDP = constant * np.sum(Lrt * (lam_rt * Theta_h + (1-lam_rt) * Theta_l))\n",
    "    return GDP\n",
    "    "
   ]
  },
  {
   "cell_type": "code",
   "execution_count": 12,
   "metadata": {},
   "outputs": [
    {
     "data": {
      "text/plain": [
       "Text(0,0.5,'pi')"
      ]
     },
     "execution_count": 12,
     "metadata": {},
     "output_type": "execute_result"
    },
    {
     "data": {
      "image/png": "[encoded data removed]",
      "text/plain": [
       "<matplotlib.figure.Figure at 0x7f3d147be208>"
      ]
     },
     "metadata": {},
     "output_type": "display_data"
    }
   ],
   "source": [
    "pi = computePi(wages)\n",
    "plt.scatter(Q[t,NA], pi[t,NA])\n",
    "plt.xlabel('Q'); plt.ylabel('pi')"
   ]
  },
  {
   "cell_type": "code",
   "execution_count": 13,
   "metadata": {},
   "outputs": [],
   "source": [
    "def computeLrt(skills):\n",
    "    overall_lamda = np.sum(skills, axis=R)\n",
    "    Lrt = np.sum(skills, axis=S)\n",
    "    lam_rt = (skills/Lrt)\n",
    "    \n",
    "    return overall_lamda, Lrt, lam_rt\n",
    "\n",
    "\n",
    "def loopy(skills, wages, log=True):\n",
    "    lr = 0.1\n",
    "    loss = 10\n",
    "    \n",
    "    # these are fixed\n",
    "    lamda, Lrt, lam_rt = computeLrt(skills)\n",
    "    \n",
    "    for i in range(1000):\n",
    "\n",
    "        pi = computePi(wages)\n",
    "        Theta_h, Theta_l, Theta = computeTheta(wages)\n",
    "        GDP = computeGDP(lam_rt, Theta_h, Theta_l)\n",
    "\n",
    "        regionalRevenue = (1-param.alpha) * pi * vAt *  GDP\n",
    "        x = Lrt * myGamma(param.zeta) * np.matmul(lam_rt.transpose((2,0,1)), Psi).transpose((1,2,0))\n",
    "\n",
    "        newWages = regionalRevenue/x\n",
    "        \n",
    "        # normalize wages\n",
    "        newWages = newWages / np.sum(newWages)\n",
    "        \n",
    "        loss = np.sum(np.abs(newWages - wages))\n",
    "\n",
    "        # update\n",
    "        wages = lr * newWages + (1-lr) * wages\n",
    "        \n",
    "        if loss < 1e-6:\n",
    "            if log:\n",
    "                print('Iteration #{}: {}'.format(i, loss))\n",
    "            break\n",
    "            \n",
    "        if i % 20 == 0 and log:\n",
    "            print('Iteration #{}: {}'.format(i, loss))\n",
    "            \n",
    "    return wages\n"
   ]
  },
  {
   "cell_type": "code",
   "execution_count": 14,
   "metadata": {},
   "outputs": [
    {
     "name": "stdout",
     "output_type": "stream",
     "text": [
      "Iteration #0: 27.73479004410282\n",
      "Iteration #20: 3.1970523791273604\n",
      "Iteration #40: 0.3886869328051251\n",
      "Iteration #60: 0.04725525697351689\n",
      "Iteration #80: 0.0057451360546579705\n",
      "Iteration #100: 0.000698474421693193\n",
      "Iteration #120: 8.491818350673615e-05\n",
      "Iteration #140: 1.032406866487378e-05\n",
      "Iteration #160: 1.2551657302962706e-06\n",
      "Iteration #163: 9.150158173722074e-07\n"
     ]
    },
    {
     "data": {
      "text/plain": [
       "Text(0,0.5,'log Non-Agricultural wages')"
      ]
     },
     "execution_count": 14,
     "metadata": {},
     "output_type": "execute_result"
    },
    {
     "data": {
      "image/png": "[encoded data removed]",
      "text/plain": [
       "<matplotlib.figure.Figure at 0x7f3d14727390>"
      ]
     },
     "metadata": {},
     "output_type": "display_data"
    }
   ],
   "source": [
    "wages = readWages()\n",
    "\n",
    "def draw(wages):\n",
    "    plot_params = {\n",
    "        'alpha': 0.4,\n",
    "        's': 4\n",
    "    }\n",
    "    \n",
    "    plt.scatter(np.log(wages[t,A]), np.log(wages[t,NA]),\n",
    "           **plot_params)\n",
    "    \n",
    "    \n",
    "plt.figure(figsize=(12,6))\n",
    "\n",
    "# before\n",
    "draw(wages)\n",
    "\n",
    "newWages = loopy(skills, wages)\n",
    "\n",
    "# after\n",
    "draw(newWages)\n",
    "plt.legend(['before', 'after'])\n",
    "plt.xlabel('log Agricultural wages'); plt.ylabel('log Non-Agricultural wages')"
   ]
  },
  {
   "cell_type": "markdown",
   "metadata": {},
   "source": [
    "This is the plot that I'm not sure about. Are the wages for Non-Agricultural sectors supposed to be bunched near 0?"
   ]
  },
  {
   "cell_type": "markdown",
   "metadata": {},
   "source": [
    "## Incorporating mobility"
   ]
  },
  {
   "cell_type": "code",
   "execution_count": 15,
   "metadata": {},
   "outputs": [
    {
     "data": {
      "text/plain": [
       "array([[0.7046579 , 0.29534209]])"
      ]
     },
     "execution_count": 15,
     "metadata": {},
     "output_type": "execute_result"
    }
   ],
   "source": [
    "def computeMobility(wages):\n",
    "    _,_,Theta = computeTheta(wages)    \n",
    "    expectedUtility = myGamma(param.zeta)*Theta\n",
    "    \n",
    "    # since the interest rate is a constant, we can take psi(r_{t+1}) to be a constant too\n",
    "    W_rt = aa*bb * expectedUtility**param.eta + amenities[1] # amenities in 1910\n",
    "\n",
    "    # tau is indexed like j x r\n",
    "    stuff = np.expand_dims(W_rt, 2) - tau\n",
    "\n",
    "    sums = np.sum(np.exp(1/param.kappa * stuff), axis=3) # across the R's, not the j's\n",
    "    sums = np.expand_dims(sums, 3)\n",
    "\n",
    "    movingProbs = np.exp(1/param.kappa * stuff)/sums \n",
    "    oldL = np.expand_dims((Lrt*lam_rt), axis=3)\n",
    "    new = np.sum(movingProbs * oldL, axis=2)\n",
    "    \n",
    "    return new\n",
    "\n",
    "newSkills = computeMobility(wages)\n",
    "np.sum(newSkills, axis=R) # note that the overall lambda stays the same... since we didn't change that part"
   ]
  },
  {
   "cell_type": "code",
   "execution_count": 16,
   "metadata": {},
   "outputs": [
    {
     "name": "stdout",
     "output_type": "stream",
     "text": [
      " skill1880: (645, 2)\n",
      "L---- #0: 0.3238827080469677\n",
      "0.4938385486602783 seconds\n"
     ]
    },
    {
     "data": {
      "text/plain": [
       "[<matplotlib.lines.Line2D at 0x7f3d14421320>]"
      ]
     },
     "execution_count": 16,
     "metadata": {},
     "output_type": "execute_result"
    },
    {
     "data": {
      "image/png": "[encoded data removed]",
      "text/plain": [
       "<matplotlib.figure.Figure at 0x7f3d145c9a58>"
      ]
     },
     "metadata": {},
     "output_type": "display_data"
    }
   ],
   "source": [
    "import time\n",
    "start = time.time()\n",
    "\n",
    "lr = 0.9\n",
    "losses = []\n",
    "\n",
    "wages  = readWages()\n",
    "skills = readSkills()\n",
    "\n",
    "for i in range(1000):\n",
    "    \n",
    "    # find a fixed point wage, given location\n",
    "    wages = loopy(skills, wages, log=False)\n",
    "    \n",
    "    # find the new locations, given the wage\n",
    "    newSkills = computeMobility(wages)\n",
    "    \n",
    "    loss = np.sum(np.abs(newSkills - skills))\n",
    "    losses.append(loss)\n",
    "    \n",
    "    skills = lr * newSkills + (1-lr)*skills\n",
    "    \n",
    "    if loss < 1e-6:\n",
    "        break\n",
    "    \n",
    "    if i % 10 == 0:\n",
    "        print('L---- #{}: {}'.format(i, loss))\n",
    "        \n",
    "print(time.time() - start, 'seconds')\n",
    "plt.plot(losses)"
   ]
  },
  {
   "cell_type": "code",
   "execution_count": 17,
   "metadata": {},
   "outputs": [
    {
     "name": "stdout",
     "output_type": "stream",
     "text": [
      " skill1880: (645, 2)\n"
     ]
    },
    {
     "data": {
      "text/plain": [
       "Text(0,0.5,'log high-skill')"
      ]
     },
     "execution_count": 17,
     "metadata": {},
     "output_type": "execute_result"
    },
    {
     "data": {
      "image/png": "[encoded data removed]",
      "text/plain": [
       "<matplotlib.figure.Figure at 0x7f3d145a6208>"
      ]
     },
     "metadata": {},
     "output_type": "display_data"
    }
   ],
   "source": [
    "oldSkills = readSkills()\n",
    "\n",
    "draw(oldSkills)\n",
    "draw(skills)\n",
    "plt.legend(['before', 'after'])\n",
    "plt.xlabel('log low-skill'); plt.ylabel('log high-skill')"
   ]
  },
  {
   "cell_type": "code",
   "execution_count": 18,
   "metadata": {},
   "outputs": [
    {
     "data": {
      "text/plain": [
       "Text(0,0.5,'log Non-Agricultural wages')"
      ]
     },
     "execution_count": 18,
     "metadata": {},
     "output_type": "execute_result"
    },
    {
     "data": {
      "image/png": "[encoded data removed]",
      "text/plain": [
       "<matplotlib.figure.Figure at 0x7f3d14574390>"
      ]
     },
     "metadata": {},
     "output_type": "display_data"
    }
   ],
   "source": [
    "plt.figure(figsize=(12,6))\n",
    "\n",
    "draw(newWages) # way back when... before we updated locations\n",
    "draw(wages) # this is the actual result\n",
    "plt.legend(['before, after'])\n",
    "plt.xlabel('log Agricultural wages'); plt.ylabel('log Non-Agricultural wages')"
   ]
  },
  {
   "cell_type": "code",
   "execution_count": 20,
   "metadata": {},
   "outputs": [
    {
     "name": "stdout",
     "output_type": "stream",
     "text": [
      "Iteration #0: 5.758583431656209e-07\n"
     ]
    }
   ],
   "source": [
    "# we don't any new wages with this location\n",
    "nex = loopy(skills, wages)"
   ]
  },
  {
   "cell_type": "code",
   "execution_count": 21,
   "metadata": {},
   "outputs": [
    {
     "data": {
      "text/plain": [
       "1.2845328237866974e-08"
      ]
     },
     "execution_count": 21,
     "metadata": {},
     "output_type": "execute_result"
    }
   ],
   "source": [
    "# and we don't get any new locations either\n",
    "locs = computeMobility(nex)\n",
    "\n",
    "# the new locations and the one we get are the same\n",
    "np.sum(np.abs(locs - skills))"
   ]
  },
  {
   "cell_type": "markdown",
   "metadata": {},
   "source": [
    "They definitely converged... \n",
    "\n",
    "## Are these the 1910 wages and locations?"
   ]
  },
  {
   "cell_type": "code",
   "execution_count": 25,
   "metadata": {},
   "outputs": [
    {
     "data": {
      "text/plain": [
       "0.0005597218673515321"
      ]
     },
     "execution_count": 25,
     "metadata": {},
     "output_type": "execute_result"
    }
   ],
   "source": [
    "Lrt = np.sum(skills, axis=S)\n",
    "Theta_h,Theta_l, Theta = computeTheta(wages)\n",
    "\n",
    "GDP = computeGDP(Lrt,Theta_h, Theta_l)\n",
    "capital = param.alpha * GDP\n",
    "capital"
   ]
  },
  {
   "cell_type": "code",
   "execution_count": 26,
   "metadata": {},
   "outputs": [
    {
     "data": {
      "text/plain": [
       "array([0.020693, 0.037483, 0.067895, 0.12298 , 0.22277 ])"
      ]
     },
     "execution_count": 26,
     "metadata": {},
     "output_type": "execute_result"
    }
   ],
   "source": [
    "Capital"
   ]
  },
  {
   "cell_type": "markdown",
   "metadata": {},
   "source": [
    "## How about we compute the aggregate decline in agricultural employment?"
   ]
  },
  {
   "cell_type": "code",
   "execution_count": 27,
   "metadata": {},
   "outputs": [],
   "source": [
    "# todo"
   ]
  }
 ],
 "metadata": {
  "kernelspec": {
   "display_name": "Python 3",
   "language": "python",
   "name": "python3"
  },
  "language_info": {
   "codemirror_mode": {
    "name": "ipython",
    "version": 3
   },
   "file_extension": ".py",
   "mimetype": "text/x-python",
   "name": "python",
   "nbconvert_exporter": "python",
   "pygments_lexer": "ipython3",
   "version": "3.6.4"
  }
 },
 "nbformat": 4,
 "nbformat_minor": 2
}
