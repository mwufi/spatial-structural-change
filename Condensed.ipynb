{
 "cells": [
  {
   "cell_type": "code",
   "execution_count": 37,
   "metadata": {},
   "outputs": [],
   "source": [
    "import numpy as np\n",
    "import matplotlib.pyplot as plt\n",
    "%matplotlib inline\n",
    "\n",
    "import os\n",
    "import pandas as pd\n",
    "\n",
    "from scipy.special import gamma\n",
    "from scipy.stats import invweibull as frechet\n",
    "def myGamma(zeta):\n",
    "    return gamma(1-1/zeta)\n",
    "\n",
    "DIR = r\"/home/cz/Dropbox/Summer RA Model EP/Parameters/\"\n",
    "\n",
    "\n",
    "class Params(object):\n",
    "    pass\n",
    "\n",
    "def read(name):\n",
    "    myfile = os.path.join(DIR, 'ep_{}.csv'.format(name))\n",
    "    df=pd.read_csv(myfile, header=None)\n",
    "    return df\n",
    "\n",
    "def pv(name, mat):\n",
    "    print(\"{}: {}\".format(name.rjust(10), mat.shape))\n",
    "    \n",
    "def read_matrix(name, verbose=True):\n",
    "    df = read(name)\n",
    "    mat = df.values\n",
    "    if verbose:\n",
    "        pv(name, mat)\n",
    "    return mat\n",
    "\n",
    "def read_params():\n",
    "    param = Params()\n",
    "    with open(os.path.join(DIR, 'ep_params.csv')) as f:\n",
    "        lines = f.readlines()\n",
    "        values = lines[0].split(',')\n",
    "        names = lines[2].replace('[','').replace(']','').strip().split(' ')\n",
    "\n",
    "        if len(values) != len(names):\n",
    "            print('not sure how to read this...')\n",
    "            print(lines)\n",
    "\n",
    "        print('Found {} parameters'.format(len(values)))    \n",
    "        for k,v in zip(names, values):\n",
    "            print('{} = {}'.format(k,v))\n",
    "            setattr(param, k.split('.')[1], float(v))\n",
    "    \n",
    "    return param"
   ]
  },
  {
   "cell_type": "code",
   "execution_count": 38,
   "metadata": {},
   "outputs": [
    {
     "name": "stdout",
     "output_type": "stream",
     "text": [
      "Found 13 parameters\n",
      "param.beta = 0.28818\n",
      "param.q = 0.67565\n",
      "param.mu = 3.4112\n",
      "param.zeta = 1.62\n",
      "param.alpha = 0.05\n",
      "param.sigma = 4\n",
      "param.psi = 0.76551\n",
      "param.delta = 0.91803\n",
      "param.eta = 0.35\n",
      "param.gamma = 0.35055\n",
      "param.nu = 0.0187\n",
      "param.kappa = 0.42\n",
      "param.r = 2.8866\n",
      "\n"
     ]
    }
   ],
   "source": [
    "param = read_params()"
   ]
  },
  {
   "cell_type": "code",
   "execution_count": 39,
   "metadata": {},
   "outputs": [
    {
     "data": {
      "text/plain": [
       "2.3211529336709016"
      ]
     },
     "execution_count": 39,
     "metadata": {},
     "output_type": "execute_result"
    }
   ],
   "source": [
    "myGamma(param.zeta)"
   ]
  },
  {
   "cell_type": "code",
   "execution_count": 40,
   "metadata": {},
   "outputs": [
    {
     "name": "stdout",
     "output_type": "stream",
     "text": [
      " skill1880: (645, 2)\n",
      "  wage1880: (645, 2)\n",
      "       Q_A: (645, 5)\n",
      "      Q_NA: (645, 5)\n",
      "         Z: (5, 2)\n",
      "        vA: (5, 1)\n",
      "   Capital: (5, 1)\n",
      "       phi: (4, 1)\n",
      "       tau: (645, 645)\n",
      " amenities: (645, 5)\n"
     ]
    }
   ],
   "source": [
    "skills, wages = read_matrix(\"skill1880\"), read_matrix(\"wage1880\")\n",
    "Q_A, Q_NA = read_matrix(\"Q_A\"), read_matrix(\"Q_NA\")\n",
    "\n",
    "Z = read_matrix(\"Z\")\n",
    "vA = read_matrix(\"vA\")\n",
    "Capital = read_matrix(\"Capital\")\n",
    "phi = read_matrix(\"phi\")\n",
    "\n",
    "tau = read_matrix(\"tau\")\n",
    "amenities = read_matrix(\"amenities\")"
   ]
  },
  {
   "cell_type": "markdown",
   "metadata": {},
   "source": [
    "## Mess with the variables a bit"
   ]
  },
  {
   "cell_type": "code",
   "execution_count": 41,
   "metadata": {},
   "outputs": [
    {
     "name": "stdout",
     "output_type": "stream",
     "text": [
      "    skills: (1, 2, 645)\n",
      "     wages: (1, 2, 645)\n",
      "         Q: (5, 2, 645)\n",
      "       vAt: (2, 1)\n",
      "   Capital: (5,)\n",
      "       tau: (645, 645)\n",
      " amenities: (5, 645)\n"
     ]
    }
   ],
   "source": [
    "# expand the axes\n",
    "skills = np.expand_dims(skills, 2).transpose((2,1,0))\n",
    "pv(\"skills\", skills)\n",
    "\n",
    "wages = np.expand_dims(wages, 2).transpose((2,1,0))\n",
    "pv(\"wages\", wages)\n",
    "\n",
    "Q = np.stack((Q_A, Q_NA), axis=1).transpose((2,1,0))\n",
    "pv(\"Q\", Q)\n",
    "\n",
    "vA = vA.flatten()\n",
    "vAt= np.array([vA[1], 1-vA[1]]).reshape(2,1)\n",
    "pv(\"vAt\", vAt)\n",
    "\n",
    "Capital = Capital.flatten()\n",
    "pv(\"Capital\", Capital)\n",
    "\n",
    "pv(\"tau\", tau)\n",
    "\n",
    "amenities = amenities.transpose((1,0))\n",
    "pv(\"amenities\", amenities)"
   ]
  },
  {
   "cell_type": "code",
   "execution_count": 42,
   "metadata": {},
   "outputs": [],
   "source": [
    "# define some constants for indexing\n",
    "A, NA = 0,1\n",
    "L, H = 0,1\n",
    "R,S,T = 2,1,0\n",
    "\n",
    "Psi = np.array([[1,1],\n",
    "                [1,1.6]])"
   ]
  },
  {
   "cell_type": "code",
   "execution_count": 7,
   "metadata": {},
   "outputs": [
    {
     "name": "stdout",
     "output_type": "stream",
     "text": [
      "(1, 2) (1, 645) (1, 2, 645)\n",
      "the first index is L-skill [[0.7046579  0.29534209]]\n"
     ]
    }
   ],
   "source": [
    "overall_lamda = np.sum(skills, axis=R) # this is \\lambda overall\n",
    "Lrt = np.sum(skills, axis=S)\n",
    "lam_rt = (skills/Lrt)\n",
    "\n",
    "print(overall_lamda.shape, Lrt.shape, lam_rt.shape)\n",
    "\n",
    "# now we can do things like this:\n",
    "print('the first index is L-skill', np.sum(Lrt * lam_rt, axis=R))"
   ]
  },
  {
   "cell_type": "markdown",
   "metadata": {},
   "source": [
    "# Define methods"
   ]
  },
  {
   "cell_type": "markdown",
   "metadata": {},
   "source": [
    "Old:\n",
    "```\n",
    "regionalRevenue = (1-param.alpha) * pi[A] * vA[1] * GDP\n",
    "regionalEarnings = Lrt * myGamma(param.zeta) * (lam_rt[t,L] * Psi[L,A] + lam_rt[t,H] * Psi[H,A])\n",
    "\n",
    "newWages = regionalRevenue / regionalEarnings\n",
    "\n",
    "regionalRevenue_NA = (1-param.alpha) * pi[NA] * (1 - vA[1]) * GDP\n",
    "regionalEarnings_NA = Lrt * myGamma(param.zeta) * (lam_rt[t,L] * Psi[L,NA] + lam_rt[t,H] * Psi[H,NA])\n",
    "\n",
    "newWages_NA = regionalRevenue_NA / regionalEarnings_NA\n",
    "```\n",
    "\n",
    "New:\n",
    "```\n",
    "regionalRevenue = (1-param.alpha) * pi * vAt *  GDP\n",
    "x = Lrt * myGamma(param.zeta) * np.matmul(lam_rt.transpose((2,0,1)), Psi).transpose((1,2,0))\n",
    "\n",
    "newWages = regionalRevenue/x\n",
    "```\n",
    "\n",
    "Is it faster? I don't know if it's easier to read..."
   ]
  },
  {
   "cell_type": "code",
   "execution_count": 137,
   "metadata": {},
   "outputs": [],
   "source": [
    "t = 0\n",
    "\n",
    "# useful for resets\n",
    "def readWages(verbose=False):\n",
    "    wages = read_matrix(\"wage1880\", verbose)\n",
    "    wages = np.expand_dims(wages, 2).transpose((2,1,0))\n",
    "    return wages\n",
    "\n",
    "def readSkills():\n",
    "    skills = read_matrix(\"skill1880\")\n",
    "    skills = np.expand_dims(skills, 2).transpose((2,1,0))\n",
    "    return skills\n",
    "\n",
    "def computePi(wages):\n",
    "    pi = Q[t]**(param.sigma-1) * wages**((1-param.alpha)*(1-param.sigma))\n",
    "    \n",
    "    normalize = np.sum(pi, axis=R)\n",
    "    normalize = np.expand_dims(normalize, 2)\n",
    "    pi = pi / (normalize ** (1/(1-param.sigma)))\n",
    "    return pi\n",
    "\n",
    "def computeTheta(wages):\n",
    "    Theta = np.matmul(Psi, wages**(param.zeta)) ** (1/param.zeta)\n",
    "    Theta_l = Theta[0,L]\n",
    "    Theta_h = Theta[0,H]\n",
    "    return Theta_h, Theta_l, Theta\n",
    "\n",
    "def computeGDP(lam_rt, Theta_h, Theta_l):\n",
    "    constant= 1/(1-param.alpha) * myGamma(param.zeta)\n",
    "    GDP = constant * np.sum(Lrt * (lam_rt * Theta_h + (1-lam_rt) * Theta_l))\n",
    "    return GDP\n",
    "    "
   ]
  },
  {
   "cell_type": "code",
   "execution_count": 139,
   "metadata": {},
   "outputs": [
    {
     "data": {
      "text/plain": [
       "Text(0,0.5,'pi')"
      ]
     },
     "execution_count": 139,
     "metadata": {},
     "output_type": "execute_result"
    },
    {
     "data": {
      "image/png": "[encoded data removed]",
      "text/plain": [
       "<matplotlib.figure.Figure at 0x7f920ff3e7b8>"
      ]
     },
     "metadata": {},
     "output_type": "display_data"
    }
   ],
   "source": [
    "pi = computePi(wages)\n",
    "plt.scatter(Q[t,NA], pi[t,NA])\n",
    "plt.xlabel('Q'); plt.ylabel('pi')"
   ]
  },
  {
   "cell_type": "code",
   "execution_count": 140,
   "metadata": {},
   "outputs": [],
   "source": [
    "def loopy(wages, log=True):\n",
    "    lr = 0.1\n",
    "    loss = 10\n",
    "\n",
    "    for i in range(1000):\n",
    "\n",
    "        pi = computePi(wages)\n",
    "        Theta_h, Theta_l, Theta = computeTheta(wages)\n",
    "        GDP = computeGDP(lam_rt, Theta_h, Theta_l)\n",
    "\n",
    "        regionalRevenue = (1-param.alpha) * pi * vAt *  GDP\n",
    "        x = Lrt * myGamma(param.zeta) * np.matmul(lam_rt.transpose((2,0,1)), Psi).transpose((1,2,0))\n",
    "\n",
    "        newWages = regionalRevenue/x\n",
    "        # normalize wages\n",
    "#         newWages = newWages / np.expand_dims(np.sum(newWages, axis=R), 2)\n",
    "        \n",
    "        loss = np.sum(np.abs(newWages - wages))\n",
    "\n",
    "        # update\n",
    "        wages = lr * newWages + (1-lr) * wages\n",
    "        \n",
    "        if loss < 1e-6:\n",
    "            if log:\n",
    "                print('Iteration #{}: {}'.format(i, loss))\n",
    "            break\n",
    "            \n",
    "        if i % 20 == 0 and log:\n",
    "            print('Iteration #{}: {}'.format(i, loss))\n",
    "            \n",
    "    return wages\n"
   ]
  },
  {
   "cell_type": "code",
   "execution_count": 141,
   "metadata": {},
   "outputs": [
    {
     "name": "stdout",
     "output_type": "stream",
     "text": [
      "Iteration #0: 6812.908162223209\n",
      "Iteration #20: 94.5444653307465\n",
      "Iteration #40: 14.933242128323919\n",
      "Iteration #60: 2.5776468232521754\n",
      "Iteration #80: 0.0013608165047185273\n",
      "Iteration #96: 9.467790482890818e-07\n"
     ]
    },
    {
     "data": {
      "text/plain": [
       "Text(0,0.5,'Non-Agricultural wages')"
      ]
     },
     "execution_count": 141,
     "metadata": {},
     "output_type": "execute_result"
    },
    {
     "data": {
      "image/png": "[encoded data removed]",
      "text/plain": [
       "<matplotlib.figure.Figure at 0x7f920fee85f8>"
      ]
     },
     "metadata": {},
     "output_type": "display_data"
    }
   ],
   "source": [
    "wages = readWages()\n",
    "\n",
    "def draw(wages):\n",
    "    plot_params = {\n",
    "        'alpha': 0.4,\n",
    "        's': 4\n",
    "    }\n",
    "    \n",
    "    plt.scatter(wages[t,A], wages[t,NA],\n",
    "           **plot_params)\n",
    "    \n",
    "    \n",
    "plt.figure(figsize=(12,6))\n",
    "\n",
    "# before\n",
    "draw(wages)\n",
    "draw(wages)\n",
    "\n",
    "newWages = loopy(wages)\n",
    "\n",
    "# after\n",
    "draw(newWages)\n",
    "plt.legend(['before', 'after'])\n",
    "plt.xlabel('Agricultural wages'); plt.ylabel('Non-Agricultural wages')"
   ]
  },
  {
   "cell_type": "code",
   "execution_count": 143,
   "metadata": {},
   "outputs": [
    {
     "name": "stdout",
     "output_type": "stream",
     "text": [
      "2.8866 0.7655096595807223 0.7005475951092922 1.1896852061132865\n"
     ]
    }
   ],
   "source": [
    "\n",
    "def psi(r):\n",
    "    n = param.eta\n",
    "    ret = 1 + (param.beta**(1/(1-n))) * ((1+r)**(n/(1-n)))\n",
    "    return 1/ret\n",
    "\n",
    "interest_rate = param.r\n",
    "consumption_share = psi(interest_rate)\n",
    "\n",
    "aa = myGamma(param.eta/param.zeta)/param.eta\n",
    "bb = consumption_share**(param.eta-1)\n",
    "\n",
    "print(interest_rate, consumption_share, aa,bb)"
   ]
  },
  {
   "cell_type": "code",
   "execution_count": 144,
   "metadata": {},
   "outputs": [
    {
     "data": {
      "text/plain": [
       "array([[0.7046579 , 0.29534209]])"
      ]
     },
     "execution_count": 144,
     "metadata": {},
     "output_type": "execute_result"
    }
   ],
   "source": [
    "def computeMobility(wages):\n",
    "    n = param.eta\n",
    "    _,_,Theta = computeTheta(wages)\n",
    "    \n",
    "    # since the interest rate is a constant, we can take psi(r_{t+1}) to be a constant too\n",
    "    W_rt = aa*bb * (myGamma(param.zeta)*Theta)**n + amenities[1] # amenities in 1910\n",
    "\n",
    "    # tau is indexed like j x r\n",
    "    stuff = np.expand_dims(W_rt, 2) - tau\n",
    "\n",
    "    sums = np.sum(np.exp(1/param.kappa * stuff), axis=3) # across the R's, not the j's\n",
    "    sums = np.expand_dims(sums, 3)\n",
    "\n",
    "    movingProbs = np.exp(1/param.kappa * stuff)/sums \n",
    "    oldL = np.expand_dims((Lrt*lam_rt), axis=3)\n",
    "    new = np.sum(movingProbs * oldL, axis=2)\n",
    "    \n",
    "    return new\n",
    "\n",
    "newSkills = computeMobility(wages)\n",
    "np.sum(newSkills, axis=R) # note that the overall lambda stays the same... since we didn't change that part"
   ]
  },
  {
   "cell_type": "code",
   "execution_count": 145,
   "metadata": {},
   "outputs": [
    {
     "name": "stdout",
     "output_type": "stream",
     "text": [
      " skill1880: (645, 2)\n",
      "L---- #0: 0.3771393027420872\n",
      "L---- #10: 0.037872021013707735\n",
      "L---- #20: 0.01792319379401997\n",
      "L---- #30: 0.012526583553862984\n",
      "L---- #40: 0.010821949036747217\n",
      "L---- #50: 0.009724231731917603\n",
      "L---- #60: 0.008825727069705087\n",
      "L---- #70: 0.008046866398584054\n",
      "L---- #80: 0.0073587431286999344\n",
      "L---- #90: 0.006746663204261298\n",
      "L---- #100: 0.006199546609088857\n",
      "L---- #110: 0.005707803921011615\n",
      "L---- #120: 0.005264183121282403\n",
      "L---- #130: 0.004862631159970903\n"
     ]
    },
    {
     "ename": "KeyboardInterrupt",
     "evalue": "",
     "output_type": "error",
     "traceback": [
      "\u001b[0;31m---------------------------------------------------------------------------\u001b[0m",
      "\u001b[0;31mKeyboardInterrupt\u001b[0m                         Traceback (most recent call last)",
      "\u001b[0;32m<ipython-input-145-ec9b2713e9af>\u001b[0m in \u001b[0;36m<module>\u001b[0;34m()\u001b[0m\n\u001b[1;32m     14\u001b[0m \u001b[0;34m\u001b[0m\u001b[0m\n\u001b[1;32m     15\u001b[0m     \u001b[0;31m# find the new locations, given the wage\u001b[0m\u001b[0;34m\u001b[0m\u001b[0;34m\u001b[0m\u001b[0m\n\u001b[0;32m---> 16\u001b[0;31m     \u001b[0mnewSkills\u001b[0m \u001b[0;34m=\u001b[0m \u001b[0mcomputeMobility\u001b[0m\u001b[0;34m(\u001b[0m\u001b[0mnewWages\u001b[0m\u001b[0;34m)\u001b[0m\u001b[0;34m\u001b[0m\u001b[0m\n\u001b[0m\u001b[1;32m     17\u001b[0m \u001b[0;34m\u001b[0m\u001b[0m\n\u001b[1;32m     18\u001b[0m     \u001b[0mloss\u001b[0m \u001b[0;34m=\u001b[0m \u001b[0mnp\u001b[0m\u001b[0;34m.\u001b[0m\u001b[0msum\u001b[0m\u001b[0;34m(\u001b[0m\u001b[0mnp\u001b[0m\u001b[0;34m.\u001b[0m\u001b[0mabs\u001b[0m\u001b[0;34m(\u001b[0m\u001b[0mnewSkills\u001b[0m \u001b[0;34m-\u001b[0m \u001b[0mskills\u001b[0m\u001b[0;34m)\u001b[0m\u001b[0;34m)\u001b[0m\u001b[0;34m\u001b[0m\u001b[0m\n",
      "\u001b[0;32m<ipython-input-144-3576798621fd>\u001b[0m in \u001b[0;36mcomputeMobility\u001b[0;34m(wages)\u001b[0m\n\u001b[1;32m      9\u001b[0m     \u001b[0mstuff\u001b[0m \u001b[0;34m=\u001b[0m \u001b[0mnp\u001b[0m\u001b[0;34m.\u001b[0m\u001b[0mexpand_dims\u001b[0m\u001b[0;34m(\u001b[0m\u001b[0mW_rt\u001b[0m\u001b[0;34m,\u001b[0m \u001b[0;36m2\u001b[0m\u001b[0;34m)\u001b[0m \u001b[0;34m-\u001b[0m \u001b[0mtau\u001b[0m\u001b[0;34m\u001b[0m\u001b[0m\n\u001b[1;32m     10\u001b[0m \u001b[0;34m\u001b[0m\u001b[0m\n\u001b[0;32m---> 11\u001b[0;31m     \u001b[0msums\u001b[0m \u001b[0;34m=\u001b[0m \u001b[0mnp\u001b[0m\u001b[0;34m.\u001b[0m\u001b[0msum\u001b[0m\u001b[0;34m(\u001b[0m\u001b[0mnp\u001b[0m\u001b[0;34m.\u001b[0m\u001b[0mexp\u001b[0m\u001b[0;34m(\u001b[0m\u001b[0;36m1\u001b[0m\u001b[0;34m/\u001b[0m\u001b[0mparam\u001b[0m\u001b[0;34m.\u001b[0m\u001b[0mkappa\u001b[0m \u001b[0;34m*\u001b[0m \u001b[0mstuff\u001b[0m\u001b[0;34m)\u001b[0m\u001b[0;34m,\u001b[0m \u001b[0maxis\u001b[0m\u001b[0;34m=\u001b[0m\u001b[0;36m3\u001b[0m\u001b[0;34m)\u001b[0m \u001b[0;31m# across the R's, not the j's\u001b[0m\u001b[0;34m\u001b[0m\u001b[0m\n\u001b[0m\u001b[1;32m     12\u001b[0m     \u001b[0msums\u001b[0m \u001b[0;34m=\u001b[0m \u001b[0mnp\u001b[0m\u001b[0;34m.\u001b[0m\u001b[0mexpand_dims\u001b[0m\u001b[0;34m(\u001b[0m\u001b[0msums\u001b[0m\u001b[0;34m,\u001b[0m \u001b[0;36m3\u001b[0m\u001b[0;34m)\u001b[0m\u001b[0;34m\u001b[0m\u001b[0m\n\u001b[1;32m     13\u001b[0m \u001b[0;34m\u001b[0m\u001b[0m\n",
      "\u001b[0;31mKeyboardInterrupt\u001b[0m: "
     ]
    }
   ],
   "source": [
    "lr = 0.9\n",
    "losses = []\n",
    "\n",
    "newWages  = readWages()\n",
    "skills = readSkills()\n",
    "\n",
    "for i in range(1800):\n",
    "    overall_lamda = np.sum(skills, axis=R) # this is \\lambda overall\n",
    "    Lrt = np.sum(skills, axis=S)\n",
    "    lam_rt = (skills/Lrt)\n",
    "    \n",
    "    # find a fixed point wage, given location\n",
    "    newWages = loopy(newWages, log=False)\n",
    "    \n",
    "    # find the new locations, given the wage\n",
    "    newSkills = computeMobility(newWages)\n",
    "    \n",
    "    loss = np.sum(np.abs(newSkills - skills))\n",
    "    losses.append(loss)\n",
    "    \n",
    "    skills = lr * newSkills + (1-lr)*skills\n",
    "    \n",
    "    if loss < 1e-6:\n",
    "        break\n",
    "    \n",
    "    if i % 10 == 0:\n",
    "        print('L---- #{}: {}'.format(i, loss))\n",
    "        \n",
    "plt.plot(losses)"
   ]
  },
  {
   "cell_type": "code",
   "execution_count": 149,
   "metadata": {},
   "outputs": [
    {
     "data": {
      "image/png": "[encoded data removed]",
      "text/plain": [
       "<matplotlib.figure.Figure at 0x7f920fd92470>"
      ]
     },
     "metadata": {},
     "output_type": "display_data"
    }
   ],
   "source": [
    "draw(skills)"
   ]
  },
  {
   "cell_type": "code",
   "execution_count": 148,
   "metadata": {},
   "outputs": [
    {
     "data": {
      "image/png": "[encoded data removed]",
      "text/plain": [
       "<matplotlib.figure.Figure at 0x7f920fdd0ac8>"
      ]
     },
     "metadata": {},
     "output_type": "display_data"
    }
   ],
   "source": [
    "draw(newWages)"
   ]
  },
  {
   "cell_type": "code",
   "execution_count": 57,
   "metadata": {},
   "outputs": [
    {
     "name": "stdout",
     "output_type": "stream",
     "text": [
      "Iteration #0: 5.906800931543918e-07\n"
     ]
    }
   ],
   "source": [
    "# we don't any new wages with this location\n",
    "nex = loopy(newWages)"
   ]
  },
  {
   "cell_type": "code",
   "execution_count": 64,
   "metadata": {},
   "outputs": [
    {
     "data": {
      "text/plain": [
       "1.437998733305172e-07"
      ]
     },
     "execution_count": 64,
     "metadata": {},
     "output_type": "execute_result"
    }
   ],
   "source": [
    "# and we don't get any new locations either\n",
    "locs = computeMobility(nex)\n",
    "\n",
    "# the new locations and the one we get are the same\n",
    "np.sum(np.abs(locs - skills))"
   ]
  },
  {
   "cell_type": "markdown",
   "metadata": {},
   "source": [
    "## Are these the 1910 wages and locations?"
   ]
  },
  {
   "cell_type": "code",
   "execution_count": null,
   "metadata": {},
   "outputs": [],
   "source": []
  }
 ],
 "metadata": {
  "kernelspec": {
   "display_name": "Python 3",
   "language": "python",
   "name": "python3"
  },
  "language_info": {
   "codemirror_mode": {
    "name": "ipython",
    "version": 3
   },
   "file_extension": ".py",
   "mimetype": "text/x-python",
   "name": "python",
   "nbconvert_exporter": "python",
   "pygments_lexer": "ipython3",
   "version": "3.6.4"
  }
 },
 "nbformat": 4,
 "nbformat_minor": 2
}
