{
 "cells": [
  {
   "cell_type": "markdown",
   "metadata": {},
   "source": [
    "# Solving the Model for \"Spatial Structural Change\""
   ]
  },
  {
   "cell_type": "markdown",
   "metadata": {},
   "source": [
    "# Exogenous parameters and fundamentals\n",
    "\n",
    "A vector of parameters governing preferences, technology, and migration costs\n",
    "\n",
    "A vector of local fundamentals\n",
    "$$\n",
    "[ \\{ Q_{Atr}, Q_{NAtr}, A_{rt} \\}  _{r=1}^R ]  _{t=1880}^{2000}\n",
    "$$\n",
    "\n",
    "A vector of aggregate productivity for each sector\n",
    "$$\n",
    "[ Z_{At}, Z_{NAt} ]  _{t=1880}^{2000}\n",
    "$$\n",
    "\n",
    "An initial condition of capital stock\n",
    "$$\n",
    "K_{1880}\n",
    "$$\n",
    "\n",
    "An initial distribution of the population and skill type\n",
    "$$\n",
    "\\{ L_{r1800}, \\lambda_{r1800} \\}  _{r=1}^R\n",
    "$$"
   ]
  },
  {
   "cell_type": "markdown",
   "metadata": {},
   "source": [
    "Given these parameters, we have some equations that tell us how the equilibrium will evolve"
   ]
  },
  {
   "cell_type": "markdown",
   "metadata": {},
   "source": [
    "Remember how in the old model, $\\pi$ stood for how much stuff region $i$ bought from region $j$? (ie, aggregate spending)?\n",
    "\n",
    "Well in here it's almost the same, I think. Equation 16\n",
    "\n",
    "\n",
    "\n",
    "Equation 17 is the **labor market clearing condition**\n",
    "\n",
    "*it's funny, I'm digging through these equations trying to find an authoritative source of truth, between the paper and the condensed summary*"
   ]
  },
  {
   "cell_type": "markdown",
   "metadata": {},
   "source": [
    "# The Equilibrium System\n",
    "\n",
    "**Stable equilibrium conditions given $v_t^A$ **\n"
   ]
  },
  {
   "cell_type": "markdown",
   "metadata": {},
   "source": [
    "Actually, what we want is to model the spatial interactions of the economic structure... namely:\n",
    "- the capital stock $K$\n",
    "- wages across time $w$\n",
    "- distribution of the population\n",
    "\n",
    "If there are no moving costs, and spatial productivities are constanat, then "
   ]
  },
  {
   "cell_type": "markdown",
   "metadata": {},
   "source": [
    "### solving this in the simple case \n",
    "\n",
    "This gives us our basic system. First, there is a labor market clearing condition, which postulates that the income earned in $i$ must be equal to the total money every region pays for $i$'s good:\n",
    "\n",
    "$$\n",
    "w_iL_i = \\sum_j \\pi_{ji} w_j L_j\n",
    "$$\n",
    "\n",
    "Second, there is a spatial equilibrium condition, which states that workers are indifferent across regions:\n",
    "$$\n",
    "L_i = \\frac{\n",
    "exp \\Big(\\frac{w_i}{ (\\sum_k (\\frac{w_k}{A_k})^{1-\\sigma})^{\\frac{1}{1-\\sigma}}  }  \\Big)^\\eta\n",
    "}{\n",
    "\\sum_j exp \\Big(\\frac{w_j}{ (\\sum_k (\\frac{w_k}{A_k})^{1-\\sigma})^{\\frac{1}{1-\\sigma}}  }  \\Big)^\\eta\n",
    "}\n",
    "$$\n",
    "\n",
    "And that was relatively simple. Now how do all these new variables come in?\n"
   ]
  },
  {
   "cell_type": "markdown",
   "metadata": {},
   "source": [
    "## Consumer saving\n",
    "\n",
    "So what we have here is a model in which people live for 2 time periods, young and old..\n",
    "\n",
    "$y=zw$, where $z$ varies for each individual, and $w$ a vector of wages per sector.\n",
    "\n",
    "At time Young, \n",
    "\n",
    "the expenditure $e_t^Y(y)$ as a function of their income $y$ is:\n",
    "$$\n",
    "e_t^Y(y) = (\\psi(r_{t+1})) y\n",
    "$$\n",
    "or what they expect the interest rate to be determines how much they save\n",
    "\n",
    "At time Old,\n",
    "\n",
    "\n",
    "the expenditure $e_t^O(y)$ as a function of their income $y$ is:\n",
    "$$\n",
    "e_t^O(y) = (1+r_{t+1}) (1 - \\psi(r_{t+1})) y\n",
    "$$\n",
    "or, they actually reap the returns of investment from the past, plus the interest they get\n",
    "\n",
    "And it seems like this doen't matter, because the utility is just a function of $y$?"
   ]
  },
  {
   "cell_type": "markdown",
   "metadata": {},
   "source": [
    "# Some questions I want to get clear in the appendix (eq 47)\n",
    "\n",
    "so if we take the ration of labor productivity in the two sectors, by taking the total output and dividing by the proportion of workers\n",
    "$$\n",
    "L_A/L_{NA} = \\frac{ \\omega_A L }{ (1- \\omega_A) L } = \\frac {s_a}{s_{NA}} \n",
    "$$??\n",
    "\n"
   ]
  },
  {
   "cell_type": "markdown",
   "metadata": {},
   "source": [
    "**Equilibrium conditions**\n",
    "\n",
    "Given a path of interest rates, *we can calculate the equilibrium by solving a sequence of static conditions\n",
    "\n",
    "1) Clearing thegoods market\n",
    "\n",
    "Total agricultural earnings in each region\n",
    "$$\n",
    "L*\\Gamma  *     w*s = (1-\\alpha) \\pi v^A_t PY_t\n",
    "$$\n",
    "is equal to a share $1-\\alpha$ of the total agricultural output in region $r$?\n",
    "\n",
    "now $\\pi$ has different components for each sector"
   ]
  },
  {
   "cell_type": "markdown",
   "metadata": {},
   "source": [
    "weird note:\n",
    "Actually, let's look at this some more\n",
    "\n",
    "$$\n",
    "L_{rt} \\Gamma_C w_{rt} = (1-\\alpha) \\Big(\n",
    "\\pi_{rAt} v^A_t + \n",
    "labor market clearning, we somehow have these funny symbols all over the place\n",
    "\n",
    "they're something to do with the the sectors, see the little s's in there, and the lambdas, which maybe relate to how the population does work\n"
   ]
  },
  {
   "cell_type": "markdown",
   "metadata": {},
   "source": [
    "## 3.3 skills and labor suppy\n",
    "\n",
    "The way that they parameterized the skilled/non-skilled workers was that $\\lambda$ of the people are skilled, and $\\Psi$ parameterizes their value in agricultural and non-agricultural sectors, respectively.\n",
    "\n",
    "so we get a 4-combination matrix, where $\\Psi$ for low AND high skilled workers in the agricultural sector had productivities of 1, $\\Psi$ for low skilled workers in the non-agricultural sector was $p$ and $\\Psi$ for high skileld workers was $\\mu p$\n",
    "\n",
    "$$\n",
    "F_s^h(z) = e^{- \\Psi^h_s z^{-C} }\n",
    "$$\n",
    "\n",
    "weird note: using this assumes that 1) individuals know their $h$ before migrating, but not their $z^i$"
   ]
  },
  {
   "cell_type": "code",
   "execution_count": null,
   "metadata": {},
   "outputs": [],
   "source": []
  }
 ],
 "metadata": {
  "kernelspec": {
   "display_name": "Python 3",
   "language": "python",
   "name": "python3"
  },
  "language_info": {
   "codemirror_mode": {
    "name": "ipython",
    "version": 3
   },
   "file_extension": ".py",
   "mimetype": "text/x-python",
   "name": "python",
   "nbconvert_exporter": "python",
   "pygments_lexer": "ipython3",
   "version": "3.6.4"
  }
 },
 "nbformat": 4,
 "nbformat_minor": 2
}
