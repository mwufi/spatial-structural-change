{
 "cells": [
  {
   "cell_type": "markdown",
   "metadata": {},
   "source": [
    "# Solving the Model for \"Spatial Structural Change\""
   ]
  },
  {
   "cell_type": "markdown",
   "metadata": {},
   "source": [
    "# Exogenous parameters and fundamentals\n",
    "\n",
    "A vector of parameters governing preferences, technology, and migration costs\n",
    "\n",
    "A vector of local fundamentals\n",
    "$$\n",
    "[ \\{ Q_{Atr}, Q_{NAtr}, A_{rt} \\}  _{r=1}^R ]  _{t=1880}^{2000}\n",
    "$$\n",
    "\n",
    "A vector of aggregate productivity for each sector\n",
    "$$\n",
    "[ Z_{At}, Z_{NAt} ]  _{t=1880}^{2000}\n",
    "$$\n",
    "\n",
    "An initial condition of capital stock\n",
    "$$\n",
    "K_{1880}\n",
    "$$\n",
    "\n",
    "An initial distribution of the population and skill type\n",
    "$$\n",
    "\\{ L_{r1800}, \\lambda_{r1800} \\}  _{r=1}^R\n",
    "$$"
   ]
  },
  {
   "cell_type": "markdown",
   "metadata": {},
   "source": [
    "Given these parameters, we have some equations that tell us how the equilibrium will evolve"
   ]
  },
  {
   "cell_type": "markdown",
   "metadata": {},
   "source": [
    "# The Equilibrium System\n",
    "\n",
    "**Stable equilibrium conditions given $v_t^A$ **\n",
    "\n",
    "What is $v_t^A$?"
   ]
  },
  {
   "cell_type": "code",
   "execution_count": 1,
   "metadata": {},
   "outputs": [],
   "source": [
    "import numpy as np\n",
    "import matplotlib.pyplot as plt\n",
    "%matplotlib inline"
   ]
  }
 ],
 "metadata": {
  "kernelspec": {
   "display_name": "Python 3",
   "language": "python",
   "name": "python3"
  },
  "language_info": {
   "codemirror_mode": {
    "name": "ipython",
    "version": 3
   },
   "file_extension": ".py",
   "mimetype": "text/x-python",
   "name": "python",
   "nbconvert_exporter": "python",
   "pygments_lexer": "ipython3",
   "version": "3.6.4"
  }
 },
 "nbformat": 4,
 "nbformat_minor": 2
}
