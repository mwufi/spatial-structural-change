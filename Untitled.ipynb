{
 "cells": [
  {
   "cell_type": "code",
   "execution_count": 26,
   "metadata": {},
   "outputs": [
    {
     "name": "stdout",
     "output_type": "stream",
     "text": [
      "- ep_params.csv\n",
      "- ep_amenities.csv\n",
      "- ep_Z.csv\n",
      "- ep_phi.csv\n",
      "- ep_tau.csv\n",
      "- ep_Q_A.csv\n",
      "- ep_vA.csv\n",
      "- matlab.mat\n",
      "- ep_Capital.csv\n",
      "- ep_Q_NA.csv\n",
      "- ep_wage1880.csv\n",
      "- ep_skill1880.csv\n"
     ]
    }
   ],
   "source": [
    "DIR = r\"/home/cz/Dropbox/Summer RA Model EP/Parameters/\"\n",
    "\n",
    "import os\n",
    "for t in os.listdir(DIR):\n",
    "    print('-', t)"
   ]
  },
  {
   "cell_type": "markdown",
   "metadata": {},
   "source": [
    "## Reading the parameters"
   ]
  },
  {
   "cell_type": "code",
   "execution_count": 132,
   "metadata": {},
   "outputs": [
    {
     "name": "stdout",
     "output_type": "stream",
     "text": [
      "Found 13 parameters\n",
      "param.beta = 0.28818\n",
      "param.q = 0.67565\n",
      "param.mu = 3.4112\n",
      "param.zeta = 1.62\n",
      "param.alpha = 0.05\n",
      "param.sigma = 4\n",
      "param.psi = 0.76551\n",
      "param.delta = 0.91803\n",
      "param.eta = 0.35\n",
      "param.gamma = 0.35055\n",
      "param.nu = 0.0187\n",
      "param.kappa = 0.42\n",
      "param.r = 2.8866\n",
      "\n"
     ]
    }
   ],
   "source": [
    "class Params(object):\n",
    "    pass\n",
    "\n",
    "param = Params()\n",
    "with open(os.path.join(DIR, 'ep_params.csv')) as f:\n",
    "    lines = f.readlines()\n",
    "    values = lines[0].split(',')\n",
    "    names = lines[2].replace('[','').replace(']','').strip().split(' ')\n",
    "    \n",
    "    if len(values) != len(names):\n",
    "        print('not sure how to read this...')\n",
    "        print(lines)\n",
    "        \n",
    "    print('Found {} parameters'.format(len(values)))    \n",
    "    for k,v in zip(names, values):\n",
    "        print('{} = {}'.format(k,v))\n",
    "        setattr(param, k.split('.')[1], float(v))"
   ]
  },
  {
   "cell_type": "code",
   "execution_count": 133,
   "metadata": {},
   "outputs": [
    {
     "data": {
      "text/plain": [
       "0.42"
      ]
     },
     "execution_count": 133,
     "metadata": {},
     "output_type": "execute_result"
    }
   ],
   "source": [
    "# so now we can do\n",
    "param.kappa"
   ]
  },
  {
   "cell_type": "markdown",
   "metadata": {},
   "source": [
    "## Reading the rest of the files"
   ]
  },
  {
   "cell_type": "markdown",
   "metadata": {},
   "source": [
    "We have:\n",
    "- ep_params.csv\n",
    "- ep_amenities.csv\n",
    "    - 645 by 5 matrix\n",
    "    - first column is NaN\n",
    "- ep_Z.csv\n",
    "    - 5 by 2 matrix\n",
    "- ep_phi.csv\n",
    "    - 4 by 1 matrix\n",
    "- ep_tau.csv\n",
    "    - 645 by 645 matrix\n",
    "- ep_Q_A.csv\n",
    "    - 645 by 5 matrix\n",
    "- ep_vA.csv\n",
    "    - 5 by 1 matrix\n",
    "- matlab.mat\n",
    "- ep_Capital.csv\n",
    "    - 5 by 1 matrix\n",
    "- ep_Q_NA.csv\n",
    "    - 645 by 5 matrix\n",
    "- ep_wage1880.csv\n",
    "    - 645 by 2 matrix\n",
    "- ep_skill1880.csv\n",
    "    - 645 by 2 matrix"
   ]
  },
  {
   "cell_type": "code",
   "execution_count": 178,
   "metadata": {},
   "outputs": [
    {
     "name": "stdout",
     "output_type": "stream",
     "text": [
      " skill1880: (645, 2)\n",
      "  wage1880: (645, 2)\n",
      "       Q_A: (645, 5)\n",
      "      Q_NA: (645, 5)\n",
      "         Z: (5, 2)\n",
      "        vA: (5, 1)\n",
      "   Capital: (5, 1)\n",
      "       phi: (4, 1)\n",
      "       tau: (645, 645)\n",
      " amenities: (645, 5)\n"
     ]
    }
   ],
   "source": [
    "import pandas as pd\n",
    "\n",
    "def read(name):\n",
    "    myfile = os.path.join(DIR, 'ep_{}.csv'.format(name))\n",
    "    df=pd.read_csv(myfile, header=None)\n",
    "    return df\n",
    "\n",
    "def read_matrix(name):\n",
    "    df = read(name)\n",
    "    mat = df.values\n",
    "    print(\"{}: {}\".format(name.rjust(10), mat.shape))\n",
    "    return mat\n",
    "\n",
    "skills, wages = read_matrix(\"skill1880\"), read_matrix(\"wage1880\")\n",
    "Q_A, Q_NA = read_matrix(\"Q_A\"), read_matrix(\"Q_NA\")\n",
    "\n",
    "Z = read_matrix(\"Z\")\n",
    "vA = read_matrix(\"vA\")\n",
    "Capital = read_matrix(\"Capital\")\n",
    "phi = read_matrix(\"phi\")\n",
    "\n",
    "tau = read_matrix(\"tau\")\n",
    "amenities = read_matrix(\"amenities\")"
   ]
  },
  {
   "cell_type": "markdown",
   "metadata": {},
   "source": [
    "### Here's a function we see a lot! $\\Gamma$"
   ]
  },
  {
   "cell_type": "code",
   "execution_count": 164,
   "metadata": {},
   "outputs": [
    {
     "data": {
      "text/plain": [
       "2.3211529336709016"
      ]
     },
     "execution_count": 164,
     "metadata": {},
     "output_type": "execute_result"
    }
   ],
   "source": [
    "from scipy.special import gamma\n",
    "assert gamma(5) == 24 # gamma(n+1) = n!\n",
    "\n",
    "def myGamma(zeta):\n",
    "    return gamma(1-1/zeta)\n",
    "\n",
    "myGamma(param.zeta)"
   ]
  },
  {
   "cell_type": "markdown",
   "metadata": {},
   "source": [
    "### and here's the Frechet distribution"
   ]
  },
  {
   "cell_type": "code",
   "execution_count": 204,
   "metadata": {},
   "outputs": [
    {
     "data": {
      "text/plain": [
       "<matplotlib.legend.Legend at 0x7f3105d82470>"
      ]
     },
     "execution_count": 204,
     "metadata": {},
     "output_type": "execute_result"
    },
    {
     "data": {
      "image/png": "[encoded data removed]",
      "text/plain": [
       "<matplotlib.figure.Figure at 0x7f3105d824e0>"
      ]
     },
     "metadata": {},
     "output_type": "display_data"
    }
   ],
   "source": [
    "from scipy.stats import invweibull as frechet\n",
    "\n",
    "fig, ax = plt.subplots(1, 1)\n",
    "\n",
    "x = np.linspace(0, 2, 100)\n",
    "cs = [param.zeta]\n",
    "for c in cs:\n",
    "    ax.plot(x, frechet.pdf(x, c),\n",
    "       lw=3, alpha=0.6, label='invweibull pdf')\n",
    "plt.legend(cs)"
   ]
  },
  {
   "cell_type": "code",
   "execution_count": 207,
   "metadata": {},
   "outputs": [
    {
     "data": {
      "text/plain": [
       "2.3211529336709016"
      ]
     },
     "execution_count": 207,
     "metadata": {},
     "output_type": "execute_result"
    }
   ],
   "source": [
    "frechet.mean(param.zeta) # this matches up!"
   ]
  },
  {
   "cell_type": "code",
   "execution_count": null,
   "metadata": {},
   "outputs": [],
   "source": []
  },
  {
   "cell_type": "code",
   "execution_count": null,
   "metadata": {},
   "outputs": [],
   "source": []
  },
  {
   "cell_type": "markdown",
   "metadata": {},
   "source": [
    "# Proposition 1: solution to the household problem"
   ]
  },
  {
   "cell_type": "markdown",
   "metadata": {},
   "source": [
    "If they're trying to maximize their utility, this is the optimal amount of spending\n",
    "\n",
    "$$\n",
    "\\begin{align}\n",
    "e^Y_t (y)        & = \\Psi( r_{t+1} ) y \\\\\n",
    "e^O_t (y)        & = (1+r_{t+1}) ( 1 - \\Psi( r_{t+1} )) y \\\\\n",
    "U_{rt}^i = U_t(y) &= \\frac{1}{\\eta} \\Psi( r_{t+1} ) ^{\\eta -1} y^\\eta + A_{t,t+1}\n",
    "\\end{align}\n",
    "$$\n",
    "\n",
    "\n",
    "where \n",
    "\n",
    "$$\n",
    "\\Psi( r_{t+1} ) = ( 1+\\beta^{\\frac{1}{1-n}} (1+r_{t+1}) ^{\\frac{\\eta}{1-\\eta}} )^{-1}\n",
    "$$"
   ]
  },
  {
   "cell_type": "code",
   "execution_count": 106,
   "metadata": {},
   "outputs": [],
   "source": [
    "# this is the Psi function\n",
    "def consumption(r_t, n=0.1, beta=0.5):\n",
    "    k = 1.0 + beta**(1/(1-n)) + (1+r_t)**(n/(1-n))\n",
    "    return 1.0/k"
   ]
  },
  {
   "cell_type": "code",
   "execution_count": 112,
   "metadata": {},
   "outputs": [
    {
     "ename": "ZeroDivisionError",
     "evalue": "division by zero",
     "output_type": "error",
     "traceback": [
      "\u001b[0;31m---------------------------------------------------------------------------\u001b[0m",
      "\u001b[0;31mZeroDivisionError\u001b[0m                         Traceback (most recent call last)",
      "\u001b[0;32m<ipython-input-112-072bf0a53723>\u001b[0m in \u001b[0;36m<module>\u001b[0;34m()\u001b[0m\n\u001b[1;32m     19\u001b[0m \u001b[0meta\u001b[0m \u001b[0;34m=\u001b[0m \u001b[0;36m0.2\u001b[0m\u001b[0;34m\u001b[0m\u001b[0m\n\u001b[1;32m     20\u001b[0m \u001b[0mt\u001b[0m \u001b[0;34m=\u001b[0m \u001b[0;36m1\u001b[0m\u001b[0;34m\u001b[0m\u001b[0m\n\u001b[0;32m---> 21\u001b[0;31m \u001b[0mexpenditure\u001b[0m\u001b[0;34m(\u001b[0m\u001b[0;36m10\u001b[0m\u001b[0;34m)\u001b[0m\u001b[0;34m\u001b[0m\u001b[0m\n\u001b[0m",
      "\u001b[0;32m<ipython-input-112-072bf0a53723>\u001b[0m in \u001b[0;36mexpenditure\u001b[0;34m(y)\u001b[0m\n\u001b[1;32m     13\u001b[0m     \u001b[0me_Y\u001b[0m \u001b[0;34m=\u001b[0m \u001b[0mconsumption\u001b[0m\u001b[0;34m(\u001b[0m\u001b[0mr_t\u001b[0m\u001b[0;34m)\u001b[0m \u001b[0;34m*\u001b[0m \u001b[0my\u001b[0m\u001b[0;34m\u001b[0m\u001b[0m\n\u001b[1;32m     14\u001b[0m     \u001b[0me_O\u001b[0m \u001b[0;34m=\u001b[0m \u001b[0;34m(\u001b[0m\u001b[0;36m1\u001b[0m\u001b[0;34m+\u001b[0m\u001b[0mr_t\u001b[0m\u001b[0;34m)\u001b[0m \u001b[0;34m*\u001b[0m \u001b[0;34m(\u001b[0m\u001b[0;36m1\u001b[0m\u001b[0;34m-\u001b[0m\u001b[0mconsumption\u001b[0m\u001b[0;34m(\u001b[0m\u001b[0mr_t\u001b[0m\u001b[0;34m)\u001b[0m\u001b[0;34m)\u001b[0m \u001b[0;34m*\u001b[0m \u001b[0my\u001b[0m\u001b[0;34m\u001b[0m\u001b[0m\n\u001b[0;32m---> 15\u001b[0;31m     \u001b[0mutility\u001b[0m \u001b[0;34m=\u001b[0m \u001b[0;36m1\u001b[0m\u001b[0;34m/\u001b[0m\u001b[0meta\u001b[0m \u001b[0;34m*\u001b[0m \u001b[0mconsumption\u001b[0m\u001b[0;34m(\u001b[0m\u001b[0mr_t\u001b[0m\u001b[0;34m)\u001b[0m\u001b[0;34m**\u001b[0m\u001b[0;34m(\u001b[0m\u001b[0meta\u001b[0m\u001b[0;34m-\u001b[0m\u001b[0;36m1\u001b[0m\u001b[0;34m)\u001b[0m \u001b[0;34m*\u001b[0m \u001b[0my\u001b[0m\u001b[0;34m**\u001b[0m\u001b[0meta\u001b[0m \u001b[0;34m+\u001b[0m \u001b[0mA\u001b[0m\u001b[0;34m(\u001b[0m\u001b[0mt\u001b[0m\u001b[0;34m,\u001b[0m \u001b[0mt\u001b[0m\u001b[0;34m+\u001b[0m\u001b[0;36m1\u001b[0m\u001b[0;34m)\u001b[0m\u001b[0;34m\u001b[0m\u001b[0m\n\u001b[0m\u001b[1;32m     16\u001b[0m     \u001b[0;32mreturn\u001b[0m \u001b[0me_Y\u001b[0m\u001b[0;34m,\u001b[0m \u001b[0me_O\u001b[0m\u001b[0;34m,\u001b[0m \u001b[0mutility\u001b[0m\u001b[0;34m\u001b[0m\u001b[0m\n\u001b[1;32m     17\u001b[0m \u001b[0;34m\u001b[0m\u001b[0m\n",
      "\u001b[0;32m<ipython-input-112-072bf0a53723>\u001b[0m in \u001b[0;36mA\u001b[0;34m(t, t_1)\u001b[0m\n\u001b[1;32m      6\u001b[0m     \u001b[0mv\u001b[0m \u001b[0;34m=\u001b[0m \u001b[0;36m0\u001b[0m\u001b[0;34m\u001b[0m\u001b[0m\n\u001b[1;32m      7\u001b[0m \u001b[0;34m\u001b[0m\u001b[0m\n\u001b[0;32m----> 8\u001b[0;31m     \u001b[0mstuff\u001b[0m \u001b[0;34m=\u001b[0m \u001b[0;34m(\u001b[0m\u001b[0mpAt\u001b[0m\u001b[0;34m/\u001b[0m\u001b[0mpNAt\u001b[0m\u001b[0;34m)\u001b[0m\u001b[0;34m**\u001b[0m\u001b[0my\u001b[0m \u001b[0;34m+\u001b[0m \u001b[0mbeta\u001b[0m\u001b[0;34m*\u001b[0m\u001b[0;34m(\u001b[0m\u001b[0mpAt_\u001b[0m\u001b[0;34m*\u001b[0m\u001b[0;34m(\u001b[0m\u001b[0;36m1\u001b[0m\u001b[0;34m/\u001b[0m\u001b[0mpNAt_1\u001b[0m\u001b[0;34m)\u001b[0m\u001b[0;34m**\u001b[0m\u001b[0my\u001b[0m\u001b[0;34m)\u001b[0m\u001b[0;34m\u001b[0m\u001b[0m\n\u001b[0m\u001b[1;32m      9\u001b[0m     \u001b[0;32mreturn\u001b[0m \u001b[0;34m-\u001b[0m\u001b[0mv\u001b[0m\u001b[0;34m/\u001b[0m\u001b[0my\u001b[0m \u001b[0;34m*\u001b[0m \u001b[0mstuff\u001b[0m \u001b[0;34m+\u001b[0m \u001b[0;34m(\u001b[0m\u001b[0;36m1\u001b[0m\u001b[0;34m+\u001b[0m\u001b[0mbeta\u001b[0m\u001b[0;34m)\u001b[0m\u001b[0;34m(\u001b[0m\u001b[0mv\u001b[0m\u001b[0;34m/\u001b[0m\u001b[0my\u001b[0m \u001b[0;34m-\u001b[0m \u001b[0;36m1\u001b[0m\u001b[0;34m/\u001b[0m\u001b[0meta\u001b[0m\u001b[0;34m)\u001b[0m\u001b[0;34m\u001b[0m\u001b[0m\n\u001b[1;32m     10\u001b[0m \u001b[0;34m\u001b[0m\u001b[0m\n",
      "\u001b[0;31mZeroDivisionError\u001b[0m: division by zero"
     ]
    }
   ],
   "source": [
    "def A(t, t_1):\n",
    "    pAt, pNAt = 0,0 # get from the arrays\n",
    "    pAt_1, pNAt_1 = 0,0 # get from the arrays\n",
    "    y = 0 # really, gamma\n",
    "    beta = 0\n",
    "    v = 0\n",
    "    \n",
    "    stuff = (pAt/pNAt)**y + beta*(pAt_*(1/pNAt_1)**y)\n",
    "    return -v/y * stuff + (1+beta)(v/y - 1/eta)\n",
    "\n",
    "def expenditure(y):\n",
    "    # given r_t\n",
    "    e_Y = consumption(r_t) * y\n",
    "    e_O = (1+r_t) * (1-consumption(r_t)) * y\n",
    "    utility = 1/eta * consumption(r_t)**(eta-1) * y**eta + A(t, t+1)\n",
    "    return e_Y, e_O, utility\n",
    "\n",
    "r_t = 0.03\n",
    "eta = 0.2\n",
    "t = 1\n",
    "expenditure(10)"
   ]
  },
  {
   "cell_type": "markdown",
   "metadata": {},
   "source": [
    "## Solving for the share of agriculture in aggregate spending"
   ]
  },
  {
   "cell_type": "markdown",
   "metadata": {},
   "source": [
    "### Exploring saving"
   ]
  },
  {
   "cell_type": "code",
   "execution_count": 105,
   "metadata": {},
   "outputs": [
    {
     "data": {
      "image/png": "[encoded data removed]",
      "text/plain": [
       "<matplotlib.figure.Figure at 0x7f3118f30358>"
      ]
     },
     "metadata": {},
     "output_type": "display_data"
    }
   ],
   "source": [
    "class Var:\n",
    "    def __init__(self, name, values):\n",
    "        self.name = name\n",
    "        self.values = values\n",
    "        \n",
    "# var = Var(\"beta\", np.linspace(0.1, 0.9, num=5))\n",
    "var = Var(\"eta\", np.linspace(0.1, 0.9, num=5))\n",
    "\n",
    "plt.figure(figsize=(10,6))\n",
    "x = np.linspace(0,1)\n",
    "for b in var.values:\n",
    "#     plt.plot(x, consumption(x, beta=b))\n",
    "    plt.plot(x, consumption(x, n=b))\n",
    "plt.legend(var.values)\n",
    "plt.xlabel(\"Interest rate\")\n",
    "plt.ylabel(\"Consumption share\")\n",
    "plt.title(\"Different values of {}\".format(var.name))\n",
    "plt.show()"
   ]
  },
  {
   "cell_type": "markdown",
   "metadata": {},
   "source": [
    "* $\\beta$ moves the curve up and down.\n",
    "* $\\eta$ controls how quickly it drops. If $\\eta$ is close to 0, this means that the consumer is not very sensitive to the interest rate... while if $\\eta$ is close to 1, the consumer saves all their money after a while!"
   ]
  },
  {
   "cell_type": "code",
   "execution_count": 87,
   "metadata": {},
   "outputs": [],
   "source": [
    "import numpy as np\n",
    "import matplotlib.pyplot as plt\n",
    "%matplotlib inline"
   ]
  },
  {
   "cell_type": "code",
   "execution_count": null,
   "metadata": {},
   "outputs": [],
   "source": []
  }
 ],
 "metadata": {
  "kernelspec": {
   "display_name": "Python 3",
   "language": "python",
   "name": "python3"
  },
  "language_info": {
   "codemirror_mode": {
    "name": "ipython",
    "version": 3
   },
   "file_extension": ".py",
   "mimetype": "text/x-python",
   "name": "python",
   "nbconvert_exporter": "python",
   "pygments_lexer": "ipython3",
   "version": "3.6.4"
  }
 },
 "nbformat": 4,
 "nbformat_minor": 2
}
